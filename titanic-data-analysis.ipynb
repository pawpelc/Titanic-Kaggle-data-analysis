{
 "cells": [
  {
   "cell_type": "code",
   "execution_count": 1,
   "id": "055f5631",
   "metadata": {
    "_cell_guid": "b1076dfc-b9ad-4769-8c92-a6c4dae69d19",
    "_uuid": "8f2839f25d086af736a60e9eeb907d3b93b6e0e5",
    "execution": {
     "iopub.execute_input": "2023-10-07T12:37:01.659586Z",
     "iopub.status.busy": "2023-10-07T12:37:01.658972Z",
     "iopub.status.idle": "2023-10-07T12:37:02.528195Z",
     "shell.execute_reply": "2023-10-07T12:37:02.526821Z"
    },
    "papermill": {
     "duration": 0.88194,
     "end_time": "2023-10-07T12:37:02.530065",
     "exception": false,
     "start_time": "2023-10-07T12:37:01.648125",
     "status": "completed"
    },
    "tags": []
   },
   "outputs": [],
   "source": [
    "import numpy as np\n",
    "import pandas as pd"
   ]
  },
  {
   "cell_type": "markdown",
   "id": "ec4b944f",
   "metadata": {
    "papermill": {
     "duration": 0.008073,
     "end_time": "2023-10-07T12:37:02.546600",
     "exception": false,
     "start_time": "2023-10-07T12:37:02.538527",
     "status": "completed"
    },
    "tags": []
   },
   "source": [
    "# 1. Import and preview data"
   ]
  },
  {
   "cell_type": "code",
   "execution_count": 2,
   "id": "2cf3bdad",
   "metadata": {
    "_cell_guid": "b1076dfc-b9ad-4769-8c92-a6c4dae69d19",
    "_uuid": "8f2839f25d086af736a60e9eeb907d3b93b6e0e5",
    "execution": {
     "iopub.execute_input": "2023-10-07T12:37:02.565317Z",
     "iopub.status.busy": "2023-10-07T12:37:02.564596Z",
     "iopub.status.idle": "2023-10-07T12:37:02.595814Z",
     "shell.execute_reply": "2023-10-07T12:37:02.594551Z"
    },
    "papermill": {
     "duration": 0.043022,
     "end_time": "2023-10-07T12:37:02.598077",
     "exception": false,
     "start_time": "2023-10-07T12:37:02.555055",
     "status": "completed"
    },
    "tags": []
   },
   "outputs": [],
   "source": [
    "train_data = pd.read_csv('/kaggle/input/titanic/train.csv')\n",
    "test_data = pd.read_csv('/kaggle/input/titanic/test.csv')"
   ]
  },
  {
   "cell_type": "code",
   "execution_count": 3,
   "id": "5d646d38",
   "metadata": {
    "execution": {
     "iopub.execute_input": "2023-10-07T12:37:02.617606Z",
     "iopub.status.busy": "2023-10-07T12:37:02.617091Z",
     "iopub.status.idle": "2023-10-07T12:37:02.645798Z",
     "shell.execute_reply": "2023-10-07T12:37:02.644571Z"
    },
    "papermill": {
     "duration": 0.04025,
     "end_time": "2023-10-07T12:37:02.647469",
     "exception": false,
     "start_time": "2023-10-07T12:37:02.607219",
     "status": "completed"
    },
    "tags": []
   },
   "outputs": [
    {
     "data": {
      "text/html": [
       "<div>\n",
       "<style scoped>\n",
       "    .dataframe tbody tr th:only-of-type {\n",
       "        vertical-align: middle;\n",
       "    }\n",
       "\n",
       "    .dataframe tbody tr th {\n",
       "        vertical-align: top;\n",
       "    }\n",
       "\n",
       "    .dataframe thead th {\n",
       "        text-align: right;\n",
       "    }\n",
       "</style>\n",
       "<table border=\"1\" class=\"dataframe\">\n",
       "  <thead>\n",
       "    <tr style=\"text-align: right;\">\n",
       "      <th></th>\n",
       "      <th>PassengerId</th>\n",
       "      <th>Survived</th>\n",
       "      <th>Pclass</th>\n",
       "      <th>Name</th>\n",
       "      <th>Sex</th>\n",
       "      <th>Age</th>\n",
       "      <th>SibSp</th>\n",
       "      <th>Parch</th>\n",
       "      <th>Ticket</th>\n",
       "      <th>Fare</th>\n",
       "      <th>Cabin</th>\n",
       "      <th>Embarked</th>\n",
       "    </tr>\n",
       "  </thead>\n",
       "  <tbody>\n",
       "    <tr>\n",
       "      <th>0</th>\n",
       "      <td>1</td>\n",
       "      <td>0</td>\n",
       "      <td>3</td>\n",
       "      <td>Braund, Mr. Owen Harris</td>\n",
       "      <td>male</td>\n",
       "      <td>22.0</td>\n",
       "      <td>1</td>\n",
       "      <td>0</td>\n",
       "      <td>A/5 21171</td>\n",
       "      <td>7.2500</td>\n",
       "      <td>NaN</td>\n",
       "      <td>S</td>\n",
       "    </tr>\n",
       "    <tr>\n",
       "      <th>1</th>\n",
       "      <td>2</td>\n",
       "      <td>1</td>\n",
       "      <td>1</td>\n",
       "      <td>Cumings, Mrs. John Bradley (Florence Briggs Th...</td>\n",
       "      <td>female</td>\n",
       "      <td>38.0</td>\n",
       "      <td>1</td>\n",
       "      <td>0</td>\n",
       "      <td>PC 17599</td>\n",
       "      <td>71.2833</td>\n",
       "      <td>C85</td>\n",
       "      <td>C</td>\n",
       "    </tr>\n",
       "    <tr>\n",
       "      <th>2</th>\n",
       "      <td>3</td>\n",
       "      <td>1</td>\n",
       "      <td>3</td>\n",
       "      <td>Heikkinen, Miss. Laina</td>\n",
       "      <td>female</td>\n",
       "      <td>26.0</td>\n",
       "      <td>0</td>\n",
       "      <td>0</td>\n",
       "      <td>STON/O2. 3101282</td>\n",
       "      <td>7.9250</td>\n",
       "      <td>NaN</td>\n",
       "      <td>S</td>\n",
       "    </tr>\n",
       "    <tr>\n",
       "      <th>3</th>\n",
       "      <td>4</td>\n",
       "      <td>1</td>\n",
       "      <td>1</td>\n",
       "      <td>Futrelle, Mrs. Jacques Heath (Lily May Peel)</td>\n",
       "      <td>female</td>\n",
       "      <td>35.0</td>\n",
       "      <td>1</td>\n",
       "      <td>0</td>\n",
       "      <td>113803</td>\n",
       "      <td>53.1000</td>\n",
       "      <td>C123</td>\n",
       "      <td>S</td>\n",
       "    </tr>\n",
       "    <tr>\n",
       "      <th>4</th>\n",
       "      <td>5</td>\n",
       "      <td>0</td>\n",
       "      <td>3</td>\n",
       "      <td>Allen, Mr. William Henry</td>\n",
       "      <td>male</td>\n",
       "      <td>35.0</td>\n",
       "      <td>0</td>\n",
       "      <td>0</td>\n",
       "      <td>373450</td>\n",
       "      <td>8.0500</td>\n",
       "      <td>NaN</td>\n",
       "      <td>S</td>\n",
       "    </tr>\n",
       "  </tbody>\n",
       "</table>\n",
       "</div>"
      ],
      "text/plain": [
       "   PassengerId  Survived  Pclass  \\\n",
       "0            1         0       3   \n",
       "1            2         1       1   \n",
       "2            3         1       3   \n",
       "3            4         1       1   \n",
       "4            5         0       3   \n",
       "\n",
       "                                                Name     Sex   Age  SibSp  \\\n",
       "0                            Braund, Mr. Owen Harris    male  22.0      1   \n",
       "1  Cumings, Mrs. John Bradley (Florence Briggs Th...  female  38.0      1   \n",
       "2                             Heikkinen, Miss. Laina  female  26.0      0   \n",
       "3       Futrelle, Mrs. Jacques Heath (Lily May Peel)  female  35.0      1   \n",
       "4                           Allen, Mr. William Henry    male  35.0      0   \n",
       "\n",
       "   Parch            Ticket     Fare Cabin Embarked  \n",
       "0      0         A/5 21171   7.2500   NaN        S  \n",
       "1      0          PC 17599  71.2833   C85        C  \n",
       "2      0  STON/O2. 3101282   7.9250   NaN        S  \n",
       "3      0            113803  53.1000  C123        S  \n",
       "4      0            373450   8.0500   NaN        S  "
      ]
     },
     "execution_count": 3,
     "metadata": {},
     "output_type": "execute_result"
    }
   ],
   "source": [
    "train_data.head()"
   ]
  },
  {
   "cell_type": "code",
   "execution_count": 4,
   "id": "2811009a",
   "metadata": {
    "execution": {
     "iopub.execute_input": "2023-10-07T12:37:02.667171Z",
     "iopub.status.busy": "2023-10-07T12:37:02.666133Z",
     "iopub.status.idle": "2023-10-07T12:37:02.673456Z",
     "shell.execute_reply": "2023-10-07T12:37:02.671951Z"
    },
    "papermill": {
     "duration": 0.018867,
     "end_time": "2023-10-07T12:37:02.675192",
     "exception": false,
     "start_time": "2023-10-07T12:37:02.656325",
     "status": "completed"
    },
    "tags": []
   },
   "outputs": [
    {
     "name": "stdout",
     "output_type": "stream",
     "text": [
      "Training data has 891 rows and 12 columns.\n",
      "These columns are of type:\n",
      " PassengerId      int64\n",
      "Survived         int64\n",
      "Pclass           int64\n",
      "Name            object\n",
      "Sex             object\n",
      "Age            float64\n",
      "SibSp            int64\n",
      "Parch            int64\n",
      "Ticket          object\n",
      "Fare           float64\n",
      "Cabin           object\n",
      "Embarked        object\n",
      "dtype: object\n"
     ]
    }
   ],
   "source": [
    "print(f'Training data has {train_data.shape[0]} rows and {train_data.shape[1]} columns.')\n",
    "print('These columns are of type:\\n', train_data.dtypes)"
   ]
  },
  {
   "cell_type": "code",
   "execution_count": 5,
   "id": "3d6d2b31",
   "metadata": {
    "execution": {
     "iopub.execute_input": "2023-10-07T12:37:02.696147Z",
     "iopub.status.busy": "2023-10-07T12:37:02.695034Z",
     "iopub.status.idle": "2023-10-07T12:37:02.716126Z",
     "shell.execute_reply": "2023-10-07T12:37:02.714980Z"
    },
    "papermill": {
     "duration": 0.033868,
     "end_time": "2023-10-07T12:37:02.717910",
     "exception": false,
     "start_time": "2023-10-07T12:37:02.684042",
     "status": "completed"
    },
    "tags": []
   },
   "outputs": [
    {
     "name": "stdout",
     "output_type": "stream",
     "text": [
      "There are  667  unique last names.\n",
      "There are  7  unique values of number of Siblings / Spouses.\n",
      "There are  7  unique values of number of Parents / Children.\n",
      "There are  681  unique Tickets numbers.\n",
      "There are  147  unique Cabin values.\n",
      "There are  3  unique Embarked values.\n"
     ]
    }
   ],
   "source": [
    "print(\"There are \", len(train_data.Name.str.rsplit(\",\", n=1, expand=True)[0].value_counts()), \" unique last names.\")\n",
    "print(\"There are \", len(train_data.SibSp.value_counts()), \" unique values of number of Siblings / Spouses.\")\n",
    "print(\"There are \", len(train_data.Parch.value_counts()), \" unique values of number of Parents / Children.\")\n",
    "print(\"There are \", len(train_data.Ticket.value_counts()), \" unique Tickets numbers.\")\n",
    "print(\"There are \", len(train_data.Cabin.value_counts()), \" unique Cabin values.\")\n",
    "print(\"There are \", len(train_data.Embarked.value_counts()), \" unique Embarked values.\")"
   ]
  },
  {
   "cell_type": "code",
   "execution_count": 6,
   "id": "38c43e5c",
   "metadata": {
    "execution": {
     "iopub.execute_input": "2023-10-07T12:37:02.737525Z",
     "iopub.status.busy": "2023-10-07T12:37:02.737224Z",
     "iopub.status.idle": "2023-10-07T12:37:02.765007Z",
     "shell.execute_reply": "2023-10-07T12:37:02.763186Z"
    },
    "papermill": {
     "duration": 0.040839,
     "end_time": "2023-10-07T12:37:02.767837",
     "exception": false,
     "start_time": "2023-10-07T12:37:02.726998",
     "status": "completed"
    },
    "tags": []
   },
   "outputs": [
    {
     "data": {
      "text/html": [
       "<div>\n",
       "<style scoped>\n",
       "    .dataframe tbody tr th:only-of-type {\n",
       "        vertical-align: middle;\n",
       "    }\n",
       "\n",
       "    .dataframe tbody tr th {\n",
       "        vertical-align: top;\n",
       "    }\n",
       "\n",
       "    .dataframe thead th {\n",
       "        text-align: right;\n",
       "    }\n",
       "</style>\n",
       "<table border=\"1\" class=\"dataframe\">\n",
       "  <thead>\n",
       "    <tr style=\"text-align: right;\">\n",
       "      <th></th>\n",
       "      <th>PassengerId</th>\n",
       "      <th>Survived</th>\n",
       "      <th>Pclass</th>\n",
       "      <th>Age</th>\n",
       "      <th>SibSp</th>\n",
       "      <th>Parch</th>\n",
       "      <th>Fare</th>\n",
       "    </tr>\n",
       "  </thead>\n",
       "  <tbody>\n",
       "    <tr>\n",
       "      <th>count</th>\n",
       "      <td>891.000000</td>\n",
       "      <td>891.000000</td>\n",
       "      <td>891.000000</td>\n",
       "      <td>714.000000</td>\n",
       "      <td>891.000000</td>\n",
       "      <td>891.000000</td>\n",
       "      <td>891.000000</td>\n",
       "    </tr>\n",
       "    <tr>\n",
       "      <th>mean</th>\n",
       "      <td>446.000000</td>\n",
       "      <td>0.383838</td>\n",
       "      <td>2.308642</td>\n",
       "      <td>29.699118</td>\n",
       "      <td>0.523008</td>\n",
       "      <td>0.381594</td>\n",
       "      <td>32.204208</td>\n",
       "    </tr>\n",
       "    <tr>\n",
       "      <th>std</th>\n",
       "      <td>257.353842</td>\n",
       "      <td>0.486592</td>\n",
       "      <td>0.836071</td>\n",
       "      <td>14.526497</td>\n",
       "      <td>1.102743</td>\n",
       "      <td>0.806057</td>\n",
       "      <td>49.693429</td>\n",
       "    </tr>\n",
       "    <tr>\n",
       "      <th>min</th>\n",
       "      <td>1.000000</td>\n",
       "      <td>0.000000</td>\n",
       "      <td>1.000000</td>\n",
       "      <td>0.420000</td>\n",
       "      <td>0.000000</td>\n",
       "      <td>0.000000</td>\n",
       "      <td>0.000000</td>\n",
       "    </tr>\n",
       "    <tr>\n",
       "      <th>25%</th>\n",
       "      <td>223.500000</td>\n",
       "      <td>0.000000</td>\n",
       "      <td>2.000000</td>\n",
       "      <td>20.125000</td>\n",
       "      <td>0.000000</td>\n",
       "      <td>0.000000</td>\n",
       "      <td>7.910400</td>\n",
       "    </tr>\n",
       "    <tr>\n",
       "      <th>50%</th>\n",
       "      <td>446.000000</td>\n",
       "      <td>0.000000</td>\n",
       "      <td>3.000000</td>\n",
       "      <td>28.000000</td>\n",
       "      <td>0.000000</td>\n",
       "      <td>0.000000</td>\n",
       "      <td>14.454200</td>\n",
       "    </tr>\n",
       "    <tr>\n",
       "      <th>75%</th>\n",
       "      <td>668.500000</td>\n",
       "      <td>1.000000</td>\n",
       "      <td>3.000000</td>\n",
       "      <td>38.000000</td>\n",
       "      <td>1.000000</td>\n",
       "      <td>0.000000</td>\n",
       "      <td>31.000000</td>\n",
       "    </tr>\n",
       "    <tr>\n",
       "      <th>max</th>\n",
       "      <td>891.000000</td>\n",
       "      <td>1.000000</td>\n",
       "      <td>3.000000</td>\n",
       "      <td>80.000000</td>\n",
       "      <td>8.000000</td>\n",
       "      <td>6.000000</td>\n",
       "      <td>512.329200</td>\n",
       "    </tr>\n",
       "  </tbody>\n",
       "</table>\n",
       "</div>"
      ],
      "text/plain": [
       "       PassengerId    Survived      Pclass         Age       SibSp  \\\n",
       "count   891.000000  891.000000  891.000000  714.000000  891.000000   \n",
       "mean    446.000000    0.383838    2.308642   29.699118    0.523008   \n",
       "std     257.353842    0.486592    0.836071   14.526497    1.102743   \n",
       "min       1.000000    0.000000    1.000000    0.420000    0.000000   \n",
       "25%     223.500000    0.000000    2.000000   20.125000    0.000000   \n",
       "50%     446.000000    0.000000    3.000000   28.000000    0.000000   \n",
       "75%     668.500000    1.000000    3.000000   38.000000    1.000000   \n",
       "max     891.000000    1.000000    3.000000   80.000000    8.000000   \n",
       "\n",
       "            Parch        Fare  \n",
       "count  891.000000  891.000000  \n",
       "mean     0.381594   32.204208  \n",
       "std      0.806057   49.693429  \n",
       "min      0.000000    0.000000  \n",
       "25%      0.000000    7.910400  \n",
       "50%      0.000000   14.454200  \n",
       "75%      0.000000   31.000000  \n",
       "max      6.000000  512.329200  "
      ]
     },
     "execution_count": 6,
     "metadata": {},
     "output_type": "execute_result"
    }
   ],
   "source": [
    "train_data.describe()"
   ]
  },
  {
   "cell_type": "code",
   "execution_count": 7,
   "id": "a36953e5",
   "metadata": {
    "execution": {
     "iopub.execute_input": "2023-10-07T12:37:02.788057Z",
     "iopub.status.busy": "2023-10-07T12:37:02.787709Z",
     "iopub.status.idle": "2023-10-07T12:37:02.796285Z",
     "shell.execute_reply": "2023-10-07T12:37:02.794993Z"
    },
    "papermill": {
     "duration": 0.021278,
     "end_time": "2023-10-07T12:37:02.798161",
     "exception": false,
     "start_time": "2023-10-07T12:37:02.776883",
     "status": "completed"
    },
    "tags": []
   },
   "outputs": [
    {
     "data": {
      "text/plain": [
       "PassengerId      0\n",
       "Survived         0\n",
       "Pclass           0\n",
       "Name             0\n",
       "Sex              0\n",
       "Age            177\n",
       "SibSp            0\n",
       "Parch            0\n",
       "Ticket           0\n",
       "Fare             0\n",
       "Cabin          687\n",
       "Embarked         2\n",
       "dtype: int64"
      ]
     },
     "execution_count": 7,
     "metadata": {},
     "output_type": "execute_result"
    }
   ],
   "source": [
    "train_data.isna().sum()"
   ]
  },
  {
   "cell_type": "markdown",
   "id": "322a1c4d",
   "metadata": {
    "papermill": {
     "duration": 0.008567,
     "end_time": "2023-10-07T12:37:02.817224",
     "exception": false,
     "start_time": "2023-10-07T12:37:02.808657",
     "status": "completed"
    },
    "tags": []
   },
   "source": [
    "#### Initial thoughts and findings about columns:\n",
    "1. `PassengerId` - **drop**\n",
    "2. `Survived` - dependent variable\n",
    "3. `Pclass` - 3 categories, get dummies\n",
    "4. `Name` - categorical, 667 different names, probably there are other columns to take relatives into account, therefore rather **drop**\n",
    "5. `Sex` - 2 categories, get dummies\n",
    "6. `Age` - numerical variable, 177 null values, thus - fill NAs with mean / median / some number or remove\n",
    "7. `SibSp` - 7 unique values, **what to do? further analysis**\n",
    "8. `Parch` - 7 unique values, **what to do? further analysis**\n",
    "9. `Ticket` - 681 unique values, **what to do? Remove?**\n",
    "10. `Fare` - ticket price, continuous variable\n",
    "11. `Cabin` - cabin number, 687 null values, thus - fill NAs with an arbitrary value or remove\n",
    "12. `Embarked` - port of embarkation, 3 categories, 2 null values - fill NAs and get dummies\n",
    "---"
   ]
  },
  {
   "cell_type": "markdown",
   "id": "e2980fcf",
   "metadata": {
    "papermill": {
     "duration": 0.008364,
     "end_time": "2023-10-07T12:37:02.834202",
     "exception": false,
     "start_time": "2023-10-07T12:37:02.825838",
     "status": "completed"
    },
    "tags": []
   },
   "source": [
    "# 2. Visualise and analyse data\n",
    "\n",
    "But before making the final decision about variables let's conduct a deeper analysis.\n",
    "\n",
    "`Survived` - dependent variable\n",
    "\n",
    "`Pclass`, `Sex`, `Age`, `SibSp`, `Parch`, `Fare` - check relations\n",
    "\n",
    "`Ticket`, `Cabin`, `Embarked` - explore more, maybe with some editing of the variables"
   ]
  },
  {
   "cell_type": "code",
   "execution_count": 8,
   "id": "c650b38c",
   "metadata": {
    "execution": {
     "iopub.execute_input": "2023-10-07T12:37:02.853452Z",
     "iopub.status.busy": "2023-10-07T12:37:02.852459Z",
     "iopub.status.idle": "2023-10-07T12:37:04.331660Z",
     "shell.execute_reply": "2023-10-07T12:37:04.330245Z"
    },
    "papermill": {
     "duration": 1.491141,
     "end_time": "2023-10-07T12:37:04.333960",
     "exception": false,
     "start_time": "2023-10-07T12:37:02.842819",
     "status": "completed"
    },
    "tags": []
   },
   "outputs": [],
   "source": [
    "pd.plotting.register_matplotlib_converters()\n",
    "import matplotlib.pyplot as plt\n",
    "%matplotlib inline\n",
    "import seaborn as sns"
   ]
  },
  {
   "cell_type": "markdown",
   "id": "93570862",
   "metadata": {
    "papermill": {
     "duration": 0.0098,
     "end_time": "2023-10-07T12:37:04.411078",
     "exception": false,
     "start_time": "2023-10-07T12:37:04.401278",
     "status": "completed"
    },
    "tags": []
   },
   "source": [
    "# 2.1. `Pclass`, `Sex`, `Age`, `SibSp`, `Parch`, `Fare`"
   ]
  },
  {
   "cell_type": "code",
   "execution_count": 9,
   "id": "38d36933",
   "metadata": {
    "execution": {
     "iopub.execute_input": "2023-10-07T12:37:04.430765Z",
     "iopub.status.busy": "2023-10-07T12:37:04.430416Z",
     "iopub.status.idle": "2023-10-07T12:37:06.032546Z",
     "shell.execute_reply": "2023-10-07T12:37:06.031675Z"
    },
    "papermill": {
     "duration": 1.614314,
     "end_time": "2023-10-07T12:37:06.034690",
     "exception": false,
     "start_time": "2023-10-07T12:37:04.420376",
     "status": "completed"
    },
    "tags": []
   },
   "outputs": [
    {
     "data": {
      "text/plain": [
       "<Axes: xlabel='Fare', ylabel='Survived'>"
      ]
     },
     "execution_count": 9,
     "metadata": {},
     "output_type": "execute_result"
    },
    {
     "data": {
      "image/png": "[encoded data removed]",
      "text/plain": [
       "<Figure size 1200x900 with 6 Axes>"
      ]
     },
     "metadata": {},
     "output_type": "display_data"
    }
   ],
   "source": [
    "sns.set_theme()\n",
    "fig, axes = plt.subplots(2, 3, figsize=(12, 9))\n",
    "plt.subplots_adjust(hspace = 0.3, wspace = 0.6)\n",
    "\n",
    "sns.barplot(data=train_data, x='Pclass', y='Survived', ax=axes[0,0])\n",
    "sns.barplot(data=train_data, x='Sex', y='Survived', ax=axes[0,1])\n",
    "sns.regplot(data=train_data, x='Age', y='Survived', ax=axes[0,2])\n",
    "sns.barplot(data=train_data, x='SibSp', y='Survived', ax=axes[1,0])\n",
    "sns.barplot(data=train_data, x='Parch', y='Survived', ax=axes[1,1])\n",
    "sns.regplot(data=train_data, x='Fare', y='Survived', ax=axes[1,2])"
   ]
  },
  {
   "cell_type": "code",
   "execution_count": 10,
   "id": "3730c01f",
   "metadata": {
    "execution": {
     "iopub.execute_input": "2023-10-07T12:37:06.057588Z",
     "iopub.status.busy": "2023-10-07T12:37:06.057257Z",
     "iopub.status.idle": "2023-10-07T12:37:06.402965Z",
     "shell.execute_reply": "2023-10-07T12:37:06.401801Z"
    },
    "papermill": {
     "duration": 0.360227,
     "end_time": "2023-10-07T12:37:06.405680",
     "exception": false,
     "start_time": "2023-10-07T12:37:06.045453",
     "status": "completed"
    },
    "tags": []
   },
   "outputs": [
    {
     "data": {
      "text/plain": [
       "<Axes: xlabel='Pclass', ylabel='count'>"
      ]
     },
     "execution_count": 10,
     "metadata": {},
     "output_type": "execute_result"
    },
    {
     "data": {
      "image/png": "[encoded data removed]",
      "text/plain": [
       "<Figure size 1000x500 with 2 Axes>"
      ]
     },
     "metadata": {},
     "output_type": "display_data"
    }
   ],
   "source": [
    "sns.set_theme()\n",
    "fig, axes = plt.subplots(1, 2, figsize=(10, 5))\n",
    "sns.countplot(data=train_data, x='Sex', hue='Survived', ax=axes[0])\n",
    "sns.countplot(data=train_data, x='Pclass', hue='Survived', ax=axes[1])"
   ]
  },
  {
   "cell_type": "markdown",
   "id": "96fe01a8",
   "metadata": {
    "papermill": {
     "duration": 0.01042,
     "end_time": "2023-10-07T12:37:06.426949",
     "exception": false,
     "start_time": "2023-10-07T12:37:06.416529",
     "status": "completed"
    },
    "tags": []
   },
   "source": [
    "On the plots we can observe that: \n",
    "- `Pclass` - the higher the ticket class (so smaller number), the higher chance of survival,\n",
    "- `Sex` - significantly higher chance of survival amongst women,\n",
    "- `Age` - based on the regression line one can expect that the younger the person, the higher chance of survival, but a **further analysis is needed**,\n",
    "-`SibSp` and `Parch` - values 1, 2 and 3 seem to have a higher chance of survival,\n",
    "- `Fare` - based on the regression line, one can expect that the more expensive the ticket was, the higher the chance of survival"
   ]
  },
  {
   "cell_type": "markdown",
   "id": "0afef019",
   "metadata": {
    "papermill": {
     "duration": 0.011895,
     "end_time": "2023-10-07T12:37:06.449791",
     "exception": false,
     "start_time": "2023-10-07T12:37:06.437896",
     "status": "completed"
    },
    "tags": []
   },
   "source": [
    "## 2.1.1. Age"
   ]
  },
  {
   "cell_type": "code",
   "execution_count": 11,
   "id": "e3055951",
   "metadata": {
    "execution": {
     "iopub.execute_input": "2023-10-07T12:37:06.473205Z",
     "iopub.status.busy": "2023-10-07T12:37:06.472906Z",
     "iopub.status.idle": "2023-10-07T12:37:07.307922Z",
     "shell.execute_reply": "2023-10-07T12:37:07.306838Z"
    },
    "papermill": {
     "duration": 0.84876,
     "end_time": "2023-10-07T12:37:07.309576",
     "exception": false,
     "start_time": "2023-10-07T12:37:06.460816",
     "status": "completed"
    },
    "tags": []
   },
   "outputs": [
    {
     "data": {
      "text/plain": [
       "<Axes: xlabel='Age', ylabel='Proportion'>"
      ]
     },
     "execution_count": 11,
     "metadata": {},
     "output_type": "execute_result"
    },
    {
     "data": {
      "image/png": "[encoded data removed]",
      "text/plain": [
       "<Figure size 1500x600 with 3 Axes>"
      ]
     },
     "metadata": {},
     "output_type": "display_data"
    }
   ],
   "source": [
    "fig, axes = plt.subplots(1, 3, figsize=(15, 6))\n",
    "\n",
    "sns.histplot(data=train_data, x=\"Age\", hue=\"Survived\", bins=15, ax=axes[0])\n",
    "sns.kdeplot(data=train_data, x='Age', hue=\"Survived\", fill=True, ax=axes[1])\n",
    "sns.ecdfplot(data=train_data, x='Age', hue=\"Survived\", ax=axes[2])"
   ]
  },
  {
   "cell_type": "code",
   "execution_count": 12,
   "id": "d08a226a",
   "metadata": {
    "execution": {
     "iopub.execute_input": "2023-10-07T12:37:07.333865Z",
     "iopub.status.busy": "2023-10-07T12:37:07.333548Z",
     "iopub.status.idle": "2023-10-07T12:37:07.347230Z",
     "shell.execute_reply": "2023-10-07T12:37:07.346043Z"
    },
    "papermill": {
     "duration": 0.028386,
     "end_time": "2023-10-07T12:37:07.349587",
     "exception": false,
     "start_time": "2023-10-07T12:37:07.321201",
     "status": "completed"
    },
    "tags": []
   },
   "outputs": [],
   "source": [
    "# Analyse 'Age' variable\n",
    "\n",
    "# Create copy of the train_data\n",
    "train_data_2 = train_data.copy()\n",
    "\n",
    "age_bins = np.array([0, 1, 2, 3, 4, 5, 10, 15, 20, 30, 40 ,50 ,60 ,70, 81])\n",
    "# age_bins = np.array([0, 1, 5, 10, 20, 30, 60, 70, 81]) \n",
    "\n",
    "# Bin the data\n",
    "train_data_2['AgeGroup'] = pd.cut(train_data_2['Age'], bins=age_bins, right=False)"
   ]
  },
  {
   "cell_type": "code",
   "execution_count": 13,
   "id": "da622efe",
   "metadata": {
    "execution": {
     "iopub.execute_input": "2023-10-07T12:37:07.373462Z",
     "iopub.status.busy": "2023-10-07T12:37:07.373140Z",
     "iopub.status.idle": "2023-10-07T12:37:07.393416Z",
     "shell.execute_reply": "2023-10-07T12:37:07.392150Z"
    },
    "papermill": {
     "duration": 0.034593,
     "end_time": "2023-10-07T12:37:07.395697",
     "exception": false,
     "start_time": "2023-10-07T12:37:07.361104",
     "status": "completed"
    },
    "tags": []
   },
   "outputs": [],
   "source": [
    "# Compute % of survivors / not_survivors in each Age Group\n",
    "age_group_stats = train_data_2.groupby(['AgeGroup', 'Survived']).size().unstack(fill_value=0)\n",
    "age_group_stats['Total'] = age_group_stats.sum(axis=1)\n",
    "age_group_stats['Not_Survived_Percentage'] = (age_group_stats[0] / age_group_stats['Total']) * 100\n",
    "age_group_stats['Survived_Percentage'] = (age_group_stats[1] / age_group_stats['Total']) * 100"
   ]
  },
  {
   "cell_type": "code",
   "execution_count": 14,
   "id": "b782a6a1",
   "metadata": {
    "execution": {
     "iopub.execute_input": "2023-10-07T12:37:07.420427Z",
     "iopub.status.busy": "2023-10-07T12:37:07.420101Z",
     "iopub.status.idle": "2023-10-07T12:37:07.431669Z",
     "shell.execute_reply": "2023-10-07T12:37:07.430113Z"
    },
    "papermill": {
     "duration": 0.026324,
     "end_time": "2023-10-07T12:37:07.433382",
     "exception": false,
     "start_time": "2023-10-07T12:37:07.407058",
     "status": "completed"
    },
    "tags": []
   },
   "outputs": [
    {
     "name": "stdout",
     "output_type": "stream",
     "text": [
      "424\n",
      "290\n",
      "Percentage of passengers that did not survive:  59.384\n",
      "Percentage of passengers that survived:  40.616\n"
     ]
    }
   ],
   "source": [
    "# Compute % of survivors / not_survivors among all passengers with Age value\n",
    "train_data_3 = train_data[~train_data['Age'].isna()].copy()\n",
    "print(train_data_3[\"Survived\"].value_counts()[0])\n",
    "print(train_data_3[\"Survived\"].value_counts()[1])\n",
    "tot = train_data_3[\"Survived\"].value_counts()[0] + train_data_3[\"Survived\"].value_counts()[1]\n",
    "print(\"Percentage of passengers that did not survive: \", round(train_data_3[\"Survived\"].value_counts()[0]/tot*100, 3))\n",
    "print(\"Percentage of passengers that survived: \", round(train_data_3[\"Survived\"].value_counts()[1]/tot*100, 3))"
   ]
  },
  {
   "cell_type": "code",
   "execution_count": 15,
   "id": "c60090fd",
   "metadata": {
    "execution": {
     "iopub.execute_input": "2023-10-07T12:37:07.458352Z",
     "iopub.status.busy": "2023-10-07T12:37:07.458015Z",
     "iopub.status.idle": "2023-10-07T12:37:07.470590Z",
     "shell.execute_reply": "2023-10-07T12:37:07.469395Z"
    },
    "papermill": {
     "duration": 0.027517,
     "end_time": "2023-10-07T12:37:07.472807",
     "exception": false,
     "start_time": "2023-10-07T12:37:07.445290",
     "status": "completed"
    },
    "tags": []
   },
   "outputs": [],
   "source": [
    "df = pd.DataFrame(data={'AgeGroup': ['Total'],\n",
    "                        0: [train_data_3[\"Survived\"].value_counts()[0]],\n",
    "                        1: [train_data_3[\"Survived\"].value_counts()[1]], \n",
    "                        'Total': [tot], \n",
    "                        'Not_Survived_Percentage': [train_data_3[\"Survived\"].value_counts()[0]/tot*100], \n",
    "                        'Survived_Percentage': [train_data_3[\"Survived\"].value_counts()[1]/tot*100]\n",
    "                       })\n",
    "df = df.set_index('AgeGroup')\n",
    "age_group_stats = pd.concat([age_group_stats, df])"
   ]
  },
  {
   "cell_type": "code",
   "execution_count": 16,
   "id": "caff8c51",
   "metadata": {
    "execution": {
     "iopub.execute_input": "2023-10-07T12:37:07.497361Z",
     "iopub.status.busy": "2023-10-07T12:37:07.496467Z",
     "iopub.status.idle": "2023-10-07T12:37:07.506004Z",
     "shell.execute_reply": "2023-10-07T12:37:07.505422Z"
    },
    "papermill": {
     "duration": 0.023181,
     "end_time": "2023-10-07T12:37:07.507419",
     "exception": false,
     "start_time": "2023-10-07T12:37:07.484238",
     "status": "completed"
    },
    "tags": []
   },
   "outputs": [
    {
     "data": {
      "text/html": [
       "<div>\n",
       "<style scoped>\n",
       "    .dataframe tbody tr th:only-of-type {\n",
       "        vertical-align: middle;\n",
       "    }\n",
       "\n",
       "    .dataframe tbody tr th {\n",
       "        vertical-align: top;\n",
       "    }\n",
       "\n",
       "    .dataframe thead th {\n",
       "        text-align: right;\n",
       "    }\n",
       "</style>\n",
       "<table border=\"1\" class=\"dataframe\">\n",
       "  <thead>\n",
       "    <tr style=\"text-align: right;\">\n",
       "      <th></th>\n",
       "      <th>0</th>\n",
       "      <th>1</th>\n",
       "      <th>Total</th>\n",
       "      <th>Not_Survived_Percentage</th>\n",
       "      <th>Survived_Percentage</th>\n",
       "    </tr>\n",
       "    <tr>\n",
       "      <th>AgeGroup</th>\n",
       "      <th></th>\n",
       "      <th></th>\n",
       "      <th></th>\n",
       "      <th></th>\n",
       "      <th></th>\n",
       "    </tr>\n",
       "  </thead>\n",
       "  <tbody>\n",
       "    <tr>\n",
       "      <th>[0, 1)</th>\n",
       "      <td>0</td>\n",
       "      <td>7</td>\n",
       "      <td>7</td>\n",
       "      <td>0.000000</td>\n",
       "      <td>100.000000</td>\n",
       "    </tr>\n",
       "    <tr>\n",
       "      <th>[1, 2)</th>\n",
       "      <td>2</td>\n",
       "      <td>5</td>\n",
       "      <td>7</td>\n",
       "      <td>28.571429</td>\n",
       "      <td>71.428571</td>\n",
       "    </tr>\n",
       "    <tr>\n",
       "      <th>[2, 3)</th>\n",
       "      <td>7</td>\n",
       "      <td>3</td>\n",
       "      <td>10</td>\n",
       "      <td>70.000000</td>\n",
       "      <td>30.000000</td>\n",
       "    </tr>\n",
       "    <tr>\n",
       "      <th>[3, 4)</th>\n",
       "      <td>1</td>\n",
       "      <td>5</td>\n",
       "      <td>6</td>\n",
       "      <td>16.666667</td>\n",
       "      <td>83.333333</td>\n",
       "    </tr>\n",
       "    <tr>\n",
       "      <th>[4, 5)</th>\n",
       "      <td>3</td>\n",
       "      <td>7</td>\n",
       "      <td>10</td>\n",
       "      <td>30.000000</td>\n",
       "      <td>70.000000</td>\n",
       "    </tr>\n",
       "    <tr>\n",
       "      <th>[5, 10)</th>\n",
       "      <td>11</td>\n",
       "      <td>11</td>\n",
       "      <td>22</td>\n",
       "      <td>50.000000</td>\n",
       "      <td>50.000000</td>\n",
       "    </tr>\n",
       "    <tr>\n",
       "      <th>[10, 15)</th>\n",
       "      <td>9</td>\n",
       "      <td>7</td>\n",
       "      <td>16</td>\n",
       "      <td>56.250000</td>\n",
       "      <td>43.750000</td>\n",
       "    </tr>\n",
       "    <tr>\n",
       "      <th>[15, 20)</th>\n",
       "      <td>52</td>\n",
       "      <td>34</td>\n",
       "      <td>86</td>\n",
       "      <td>60.465116</td>\n",
       "      <td>39.534884</td>\n",
       "    </tr>\n",
       "    <tr>\n",
       "      <th>[20, 30)</th>\n",
       "      <td>143</td>\n",
       "      <td>77</td>\n",
       "      <td>220</td>\n",
       "      <td>65.000000</td>\n",
       "      <td>35.000000</td>\n",
       "    </tr>\n",
       "    <tr>\n",
       "      <th>[30, 40)</th>\n",
       "      <td>94</td>\n",
       "      <td>73</td>\n",
       "      <td>167</td>\n",
       "      <td>56.287425</td>\n",
       "      <td>43.712575</td>\n",
       "    </tr>\n",
       "    <tr>\n",
       "      <th>[40, 50)</th>\n",
       "      <td>55</td>\n",
       "      <td>34</td>\n",
       "      <td>89</td>\n",
       "      <td>61.797753</td>\n",
       "      <td>38.202247</td>\n",
       "    </tr>\n",
       "    <tr>\n",
       "      <th>[50, 60)</th>\n",
       "      <td>28</td>\n",
       "      <td>20</td>\n",
       "      <td>48</td>\n",
       "      <td>58.333333</td>\n",
       "      <td>41.666667</td>\n",
       "    </tr>\n",
       "    <tr>\n",
       "      <th>[60, 70)</th>\n",
       "      <td>13</td>\n",
       "      <td>6</td>\n",
       "      <td>19</td>\n",
       "      <td>68.421053</td>\n",
       "      <td>31.578947</td>\n",
       "    </tr>\n",
       "    <tr>\n",
       "      <th>[70, 81)</th>\n",
       "      <td>6</td>\n",
       "      <td>1</td>\n",
       "      <td>7</td>\n",
       "      <td>85.714286</td>\n",
       "      <td>14.285714</td>\n",
       "    </tr>\n",
       "    <tr>\n",
       "      <th>Total</th>\n",
       "      <td>424</td>\n",
       "      <td>290</td>\n",
       "      <td>714</td>\n",
       "      <td>59.383754</td>\n",
       "      <td>40.616246</td>\n",
       "    </tr>\n",
       "  </tbody>\n",
       "</table>\n",
       "</div>"
      ],
      "text/plain": [
       "            0    1  Total  Not_Survived_Percentage  Survived_Percentage\n",
       "AgeGroup                                                               \n",
       "[0, 1)      0    7      7                 0.000000           100.000000\n",
       "[1, 2)      2    5      7                28.571429            71.428571\n",
       "[2, 3)      7    3     10                70.000000            30.000000\n",
       "[3, 4)      1    5      6                16.666667            83.333333\n",
       "[4, 5)      3    7     10                30.000000            70.000000\n",
       "[5, 10)    11   11     22                50.000000            50.000000\n",
       "[10, 15)    9    7     16                56.250000            43.750000\n",
       "[15, 20)   52   34     86                60.465116            39.534884\n",
       "[20, 30)  143   77    220                65.000000            35.000000\n",
       "[30, 40)   94   73    167                56.287425            43.712575\n",
       "[40, 50)   55   34     89                61.797753            38.202247\n",
       "[50, 60)   28   20     48                58.333333            41.666667\n",
       "[60, 70)   13    6     19                68.421053            31.578947\n",
       "[70, 81)    6    1      7                85.714286            14.285714\n",
       "Total     424  290    714                59.383754            40.616246"
      ]
     },
     "execution_count": 16,
     "metadata": {},
     "output_type": "execute_result"
    }
   ],
   "source": [
    "age_group_stats"
   ]
  },
  {
   "cell_type": "code",
   "execution_count": 17,
   "id": "13e4418d",
   "metadata": {
    "execution": {
     "iopub.execute_input": "2023-10-07T12:37:07.532674Z",
     "iopub.status.busy": "2023-10-07T12:37:07.532104Z",
     "iopub.status.idle": "2023-10-07T12:37:07.941119Z",
     "shell.execute_reply": "2023-10-07T12:37:07.939874Z"
    },
    "papermill": {
     "duration": 0.424355,
     "end_time": "2023-10-07T12:37:07.943531",
     "exception": false,
     "start_time": "2023-10-07T12:37:07.519176",
     "status": "completed"
    },
    "tags": []
   },
   "outputs": [
    {
     "data": {
      "image/png": "[encoded data removed]",
      "text/plain": [
       "<Figure size 800x600 with 1 Axes>"
      ]
     },
     "metadata": {},
     "output_type": "display_data"
    }
   ],
   "source": [
    "sns.set(style=\"dark\")\n",
    "plt.figure(figsize=(8, 6))\n",
    "ax = sns.barplot(x=age_group_stats.index, y=age_group_stats['Survived_Percentage'], color='darkblue', label='Survived')\n",
    "sns.barplot(x=age_group_stats.index, y=age_group_stats['Not_Survived_Percentage'], bottom=age_group_stats['Survived_Percentage'], color='blue', label='Not Survived')\n",
    "\n",
    "ax.axhline(y=age_group_stats.loc['Total', 'Survived_Percentage'], color='red', linestyle='-', label='Total average of Survived')\n",
    "\n",
    "# Customize the plot\n",
    "plt.xlabel('Age Group')\n",
    "plt.ylabel('Percentage')\n",
    "plt.title('Percentage of Survivors and Non-Survivors by Age Group')\n",
    "plt.legend(loc='upper right')\n",
    "plt.xticks(rotation=45)\n",
    "\n",
    "# Show the plot\n",
    "plt.tight_layout()\n",
    "plt.show()"
   ]
  },
  {
   "cell_type": "markdown",
   "id": "a94b8d17",
   "metadata": {
    "papermill": {
     "duration": 0.012,
     "end_time": "2023-10-07T12:37:07.968026",
     "exception": false,
     "start_time": "2023-10-07T12:37:07.956026",
     "status": "completed"
    },
    "tags": []
   },
   "source": [
    "### Based on those results and experiments with other choices of age_bins, I decided to select `Age` bins: [0, 1, 5, 10, 20, 30, 60, 70, 81]. First, I will fill NA values with 19 as group [10-20) is closest to total average."
   ]
  },
  {
   "cell_type": "code",
   "execution_count": 18,
   "id": "5869664f",
   "metadata": {
    "execution": {
     "iopub.execute_input": "2023-10-07T12:37:07.994857Z",
     "iopub.status.busy": "2023-10-07T12:37:07.993359Z",
     "iopub.status.idle": "2023-10-07T12:37:08.004035Z",
     "shell.execute_reply": "2023-10-07T12:37:08.002968Z"
    },
    "papermill": {
     "duration": 0.025765,
     "end_time": "2023-10-07T12:37:08.005954",
     "exception": false,
     "start_time": "2023-10-07T12:37:07.980189",
     "status": "completed"
    },
    "tags": []
   },
   "outputs": [],
   "source": [
    "train_data['Age'] = train_data['Age'].fillna(19)\n",
    "\n",
    "age_bins = np.array([0, 1, 5, 10, 20, 30, 60, 70, 81])\n",
    "\n",
    "# Bin the data\n",
    "train_data['AgeGroup'] = 'Age ' + pd.cut(train_data['Age'], bins=age_bins, right=False).astype('string')"
   ]
  },
  {
   "cell_type": "markdown",
   "id": "a72475e3",
   "metadata": {
    "papermill": {
     "duration": 0.011816,
     "end_time": "2023-10-07T12:37:08.029919",
     "exception": false,
     "start_time": "2023-10-07T12:37:08.018103",
     "status": "completed"
    },
    "tags": []
   },
   "source": [
    "## 2.1.2. SibSp and Parch"
   ]
  },
  {
   "cell_type": "code",
   "execution_count": 19,
   "id": "830735dd",
   "metadata": {
    "execution": {
     "iopub.execute_input": "2023-10-07T12:37:08.057933Z",
     "iopub.status.busy": "2023-10-07T12:37:08.055630Z",
     "iopub.status.idle": "2023-10-07T12:37:08.063128Z",
     "shell.execute_reply": "2023-10-07T12:37:08.061910Z"
    },
    "papermill": {
     "duration": 0.023446,
     "end_time": "2023-10-07T12:37:08.065448",
     "exception": false,
     "start_time": "2023-10-07T12:37:08.042002",
     "status": "completed"
    },
    "tags": []
   },
   "outputs": [],
   "source": [
    "# Create new variable 'Relatives'\n",
    "\n",
    "train_data['Relatives'] = train_data['SibSp'] + train_data['Parch']"
   ]
  },
  {
   "cell_type": "code",
   "execution_count": 20,
   "id": "8b0970af",
   "metadata": {
    "execution": {
     "iopub.execute_input": "2023-10-07T12:37:08.091257Z",
     "iopub.status.busy": "2023-10-07T12:37:08.090936Z",
     "iopub.status.idle": "2023-10-07T12:37:08.099054Z",
     "shell.execute_reply": "2023-10-07T12:37:08.097846Z"
    },
    "papermill": {
     "duration": 0.023363,
     "end_time": "2023-10-07T12:37:08.101373",
     "exception": false,
     "start_time": "2023-10-07T12:37:08.078010",
     "status": "completed"
    },
    "tags": []
   },
   "outputs": [
    {
     "data": {
      "text/plain": [
       "Relatives\n",
       "0     537\n",
       "1     161\n",
       "2     102\n",
       "3      29\n",
       "5      22\n",
       "4      15\n",
       "6      12\n",
       "10      7\n",
       "7       6\n",
       "Name: count, dtype: int64"
      ]
     },
     "execution_count": 20,
     "metadata": {},
     "output_type": "execute_result"
    }
   ],
   "source": [
    "train_data['Relatives'].value_counts()"
   ]
  },
  {
   "cell_type": "code",
   "execution_count": 21,
   "id": "f9812153",
   "metadata": {
    "execution": {
     "iopub.execute_input": "2023-10-07T12:37:08.129124Z",
     "iopub.status.busy": "2023-10-07T12:37:08.127759Z",
     "iopub.status.idle": "2023-10-07T12:37:08.827516Z",
     "shell.execute_reply": "2023-10-07T12:37:08.826727Z"
    },
    "papermill": {
     "duration": 0.715479,
     "end_time": "2023-10-07T12:37:08.829608",
     "exception": false,
     "start_time": "2023-10-07T12:37:08.114129",
     "status": "completed"
    },
    "tags": []
   },
   "outputs": [
    {
     "data": {
      "text/plain": [
       "<Axes: xlabel='Relatives', ylabel='count'>"
      ]
     },
     "execution_count": 21,
     "metadata": {},
     "output_type": "execute_result"
    },
    {
     "data": {
      "image/png": "[encoded data removed]",
      "text/plain": [
       "<Figure size 1200x500 with 2 Axes>"
      ]
     },
     "metadata": {},
     "output_type": "display_data"
    }
   ],
   "source": [
    "sns.set_theme()\n",
    "fig, axes = plt.subplots(1, 2, figsize=(12,5))\n",
    "sns.barplot(data=train_data, x='Relatives', y='Survived', ax=axes[0])\n",
    "sns.countplot(data=train_data, x='Relatives', hue='Survived', ax=axes[1])"
   ]
  },
  {
   "cell_type": "markdown",
   "id": "ed419de4",
   "metadata": {
    "papermill": {
     "duration": 0.012728,
     "end_time": "2023-10-07T12:37:08.855333",
     "exception": false,
     "start_time": "2023-10-07T12:37:08.842605",
     "status": "completed"
    },
    "tags": []
   },
   "source": [
    "### From the graphs we can observe that alone passengers and passengers with many relatives on board had lower chance of survival than passengers with 1-3 relatives."
   ]
  },
  {
   "cell_type": "code",
   "execution_count": 22,
   "id": "ede11d54",
   "metadata": {
    "execution": {
     "iopub.execute_input": "2023-10-07T12:37:08.882523Z",
     "iopub.status.busy": "2023-10-07T12:37:08.881634Z",
     "iopub.status.idle": "2023-10-07T12:37:08.888452Z",
     "shell.execute_reply": "2023-10-07T12:37:08.887300Z"
    },
    "papermill": {
     "duration": 0.022294,
     "end_time": "2023-10-07T12:37:08.890111",
     "exception": false,
     "start_time": "2023-10-07T12:37:08.867817",
     "status": "completed"
    },
    "tags": []
   },
   "outputs": [
    {
     "data": {
      "text/plain": [
       "10"
      ]
     },
     "execution_count": 22,
     "metadata": {},
     "output_type": "execute_result"
    }
   ],
   "source": [
    "(test_data['SibSp'] + test_data['Parch']).max()"
   ]
  },
  {
   "cell_type": "markdown",
   "id": "62d40d54",
   "metadata": {
    "papermill": {
     "duration": 0.01192,
     "end_time": "2023-10-07T12:37:08.914457",
     "exception": false,
     "start_time": "2023-10-07T12:37:08.902537",
     "status": "completed"
    },
    "tags": []
   },
   "source": [
    "### The highest number of relatives for test_data is also 10."
   ]
  },
  {
   "cell_type": "code",
   "execution_count": 23,
   "id": "0d8a8c26",
   "metadata": {
    "execution": {
     "iopub.execute_input": "2023-10-07T12:37:08.940555Z",
     "iopub.status.busy": "2023-10-07T12:37:08.939588Z",
     "iopub.status.idle": "2023-10-07T12:37:08.948970Z",
     "shell.execute_reply": "2023-10-07T12:37:08.947961Z"
    },
    "papermill": {
     "duration": 0.024193,
     "end_time": "2023-10-07T12:37:08.950656",
     "exception": false,
     "start_time": "2023-10-07T12:37:08.926463",
     "status": "completed"
    },
    "tags": []
   },
   "outputs": [],
   "source": [
    "relatives_bins = np.array([0, 1, 4, 11])\n",
    "\n",
    "# Bin the data\n",
    "train_data['RelativesGroup'] = 'Relatives ' + pd.cut(train_data['Relatives'], bins=relatives_bins, right=False).astype('string')"
   ]
  },
  {
   "cell_type": "markdown",
   "id": "aa6bc6b8",
   "metadata": {
    "papermill": {
     "duration": 0.012202,
     "end_time": "2023-10-07T12:37:08.975463",
     "exception": false,
     "start_time": "2023-10-07T12:37:08.963261",
     "status": "completed"
    },
    "tags": []
   },
   "source": [
    "## 2.1.3. Fare"
   ]
  },
  {
   "cell_type": "code",
   "execution_count": 24,
   "id": "80c1e109",
   "metadata": {
    "execution": {
     "iopub.execute_input": "2023-10-07T12:37:09.002698Z",
     "iopub.status.busy": "2023-10-07T12:37:09.002168Z",
     "iopub.status.idle": "2023-10-07T12:37:09.011220Z",
     "shell.execute_reply": "2023-10-07T12:37:09.009900Z"
    },
    "papermill": {
     "duration": 0.024832,
     "end_time": "2023-10-07T12:37:09.013129",
     "exception": false,
     "start_time": "2023-10-07T12:37:08.988297",
     "status": "completed"
    },
    "tags": []
   },
   "outputs": [],
   "source": [
    "# Analyse 'Fare' variable\n",
    "\n",
    "# Create copy of the train_data\n",
    "train_data_2 = train_data.copy()\n",
    "\n",
    "fare_bins = np.array([0, 7, 10, 15, 20, 30, 40 ,50 , 60, 70, 80, 90, 100 ,200, 400, 600])\n",
    "\n",
    "# Bin the data\n",
    "train_data_2['FareGroup'] = pd.cut(train_data_2['Fare'], bins=fare_bins, right=False)"
   ]
  },
  {
   "cell_type": "code",
   "execution_count": 25,
   "id": "6c69d39d",
   "metadata": {
    "execution": {
     "iopub.execute_input": "2023-10-07T12:37:09.040792Z",
     "iopub.status.busy": "2023-10-07T12:37:09.039940Z",
     "iopub.status.idle": "2023-10-07T12:37:09.050775Z",
     "shell.execute_reply": "2023-10-07T12:37:09.049787Z"
    },
    "papermill": {
     "duration": 0.026392,
     "end_time": "2023-10-07T12:37:09.052604",
     "exception": false,
     "start_time": "2023-10-07T12:37:09.026212",
     "status": "completed"
    },
    "tags": []
   },
   "outputs": [],
   "source": [
    "# Compute % of survivors / not_survivors in each Age Group\n",
    "fare_group_stats = train_data_2.groupby(['FareGroup', 'Survived']).size().unstack(fill_value=0)\n",
    "fare_group_stats['Total'] = fare_group_stats.sum(axis=1)\n",
    "fare_group_stats['Not_Survived_Percentage'] = (fare_group_stats[0] / fare_group_stats['Total']) * 100\n",
    "fare_group_stats['Survived_Percentage'] = (fare_group_stats[1] / fare_group_stats['Total']) * 100"
   ]
  },
  {
   "cell_type": "code",
   "execution_count": 26,
   "id": "7276e9cf",
   "metadata": {
    "execution": {
     "iopub.execute_input": "2023-10-07T12:37:09.079849Z",
     "iopub.status.busy": "2023-10-07T12:37:09.078827Z",
     "iopub.status.idle": "2023-10-07T12:37:09.086541Z",
     "shell.execute_reply": "2023-10-07T12:37:09.085545Z"
    },
    "papermill": {
     "duration": 0.02266,
     "end_time": "2023-10-07T12:37:09.088135",
     "exception": false,
     "start_time": "2023-10-07T12:37:09.065475",
     "status": "completed"
    },
    "tags": []
   },
   "outputs": [
    {
     "name": "stdout",
     "output_type": "stream",
     "text": [
      "549\n",
      "342\n",
      "Percentage of passengers that did not survive:  61.616\n",
      "Percentage of passengers that survived:  38.384\n"
     ]
    }
   ],
   "source": [
    "# Compute % of survivors / not_survivors among all passengers\n",
    "print(train_data[\"Survived\"].value_counts()[0])\n",
    "print(train_data[\"Survived\"].value_counts()[1])\n",
    "tot = train_data[\"Survived\"].value_counts()[0] + train_data[\"Survived\"].value_counts()[1]\n",
    "print(\"Percentage of passengers that did not survive: \", round(train_data[\"Survived\"].value_counts()[0]/tot*100, 3))\n",
    "print(\"Percentage of passengers that survived: \", round(train_data[\"Survived\"].value_counts()[1]/tot*100, 3))"
   ]
  },
  {
   "cell_type": "code",
   "execution_count": 27,
   "id": "dcc034ab",
   "metadata": {
    "execution": {
     "iopub.execute_input": "2023-10-07T12:37:09.115047Z",
     "iopub.status.busy": "2023-10-07T12:37:09.114564Z",
     "iopub.status.idle": "2023-10-07T12:37:09.124804Z",
     "shell.execute_reply": "2023-10-07T12:37:09.124012Z"
    },
    "papermill": {
     "duration": 0.025914,
     "end_time": "2023-10-07T12:37:09.126427",
     "exception": false,
     "start_time": "2023-10-07T12:37:09.100513",
     "status": "completed"
    },
    "tags": []
   },
   "outputs": [
    {
     "data": {
      "text/html": [
       "<div>\n",
       "<style scoped>\n",
       "    .dataframe tbody tr th:only-of-type {\n",
       "        vertical-align: middle;\n",
       "    }\n",
       "\n",
       "    .dataframe tbody tr th {\n",
       "        vertical-align: top;\n",
       "    }\n",
       "\n",
       "    .dataframe thead th {\n",
       "        text-align: right;\n",
       "    }\n",
       "</style>\n",
       "<table border=\"1\" class=\"dataframe\">\n",
       "  <thead>\n",
       "    <tr style=\"text-align: right;\">\n",
       "      <th>Survived</th>\n",
       "      <th>0</th>\n",
       "      <th>1</th>\n",
       "      <th>Total</th>\n",
       "      <th>Not_Survived_Percentage</th>\n",
       "      <th>Survived_Percentage</th>\n",
       "    </tr>\n",
       "    <tr>\n",
       "      <th>FareGroup</th>\n",
       "      <th></th>\n",
       "      <th></th>\n",
       "      <th></th>\n",
       "      <th></th>\n",
       "      <th></th>\n",
       "    </tr>\n",
       "  </thead>\n",
       "  <tbody>\n",
       "    <tr>\n",
       "      <th>[0, 7)</th>\n",
       "      <td>26</td>\n",
       "      <td>2</td>\n",
       "      <td>28</td>\n",
       "      <td>92.857143</td>\n",
       "      <td>7.142857</td>\n",
       "    </tr>\n",
       "    <tr>\n",
       "      <th>[7, 10)</th>\n",
       "      <td>243</td>\n",
       "      <td>65</td>\n",
       "      <td>308</td>\n",
       "      <td>78.896104</td>\n",
       "      <td>21.103896</td>\n",
       "    </tr>\n",
       "    <tr>\n",
       "      <th>[10, 15)</th>\n",
       "      <td>74</td>\n",
       "      <td>47</td>\n",
       "      <td>121</td>\n",
       "      <td>61.157025</td>\n",
       "      <td>38.842975</td>\n",
       "    </tr>\n",
       "    <tr>\n",
       "      <th>[15, 20)</th>\n",
       "      <td>29</td>\n",
       "      <td>29</td>\n",
       "      <td>58</td>\n",
       "      <td>50.000000</td>\n",
       "      <td>50.000000</td>\n",
       "    </tr>\n",
       "    <tr>\n",
       "      <th>[20, 30)</th>\n",
       "      <td>78</td>\n",
       "      <td>58</td>\n",
       "      <td>136</td>\n",
       "      <td>57.352941</td>\n",
       "      <td>42.647059</td>\n",
       "    </tr>\n",
       "    <tr>\n",
       "      <th>[30, 40)</th>\n",
       "      <td>36</td>\n",
       "      <td>28</td>\n",
       "      <td>64</td>\n",
       "      <td>56.250000</td>\n",
       "      <td>43.750000</td>\n",
       "    </tr>\n",
       "    <tr>\n",
       "      <th>[40, 50)</th>\n",
       "      <td>11</td>\n",
       "      <td>4</td>\n",
       "      <td>15</td>\n",
       "      <td>73.333333</td>\n",
       "      <td>26.666667</td>\n",
       "    </tr>\n",
       "    <tr>\n",
       "      <th>[50, 60)</th>\n",
       "      <td>12</td>\n",
       "      <td>27</td>\n",
       "      <td>39</td>\n",
       "      <td>30.769231</td>\n",
       "      <td>69.230769</td>\n",
       "    </tr>\n",
       "    <tr>\n",
       "      <th>[60, 70)</th>\n",
       "      <td>11</td>\n",
       "      <td>6</td>\n",
       "      <td>17</td>\n",
       "      <td>64.705882</td>\n",
       "      <td>35.294118</td>\n",
       "    </tr>\n",
       "    <tr>\n",
       "      <th>[70, 80)</th>\n",
       "      <td>12</td>\n",
       "      <td>17</td>\n",
       "      <td>29</td>\n",
       "      <td>41.379310</td>\n",
       "      <td>58.620690</td>\n",
       "    </tr>\n",
       "    <tr>\n",
       "      <th>[80, 90)</th>\n",
       "      <td>2</td>\n",
       "      <td>13</td>\n",
       "      <td>15</td>\n",
       "      <td>13.333333</td>\n",
       "      <td>86.666667</td>\n",
       "    </tr>\n",
       "    <tr>\n",
       "      <th>[90, 100)</th>\n",
       "      <td>1</td>\n",
       "      <td>7</td>\n",
       "      <td>8</td>\n",
       "      <td>12.500000</td>\n",
       "      <td>87.500000</td>\n",
       "    </tr>\n",
       "    <tr>\n",
       "      <th>[100, 200)</th>\n",
       "      <td>8</td>\n",
       "      <td>25</td>\n",
       "      <td>33</td>\n",
       "      <td>24.242424</td>\n",
       "      <td>75.757576</td>\n",
       "    </tr>\n",
       "    <tr>\n",
       "      <th>[200, 400)</th>\n",
       "      <td>6</td>\n",
       "      <td>11</td>\n",
       "      <td>17</td>\n",
       "      <td>35.294118</td>\n",
       "      <td>64.705882</td>\n",
       "    </tr>\n",
       "    <tr>\n",
       "      <th>[400, 600)</th>\n",
       "      <td>0</td>\n",
       "      <td>3</td>\n",
       "      <td>3</td>\n",
       "      <td>0.000000</td>\n",
       "      <td>100.000000</td>\n",
       "    </tr>\n",
       "  </tbody>\n",
       "</table>\n",
       "</div>"
      ],
      "text/plain": [
       "Survived      0   1  Total  Not_Survived_Percentage  Survived_Percentage\n",
       "FareGroup                                                               \n",
       "[0, 7)       26   2     28                92.857143             7.142857\n",
       "[7, 10)     243  65    308                78.896104            21.103896\n",
       "[10, 15)     74  47    121                61.157025            38.842975\n",
       "[15, 20)     29  29     58                50.000000            50.000000\n",
       "[20, 30)     78  58    136                57.352941            42.647059\n",
       "[30, 40)     36  28     64                56.250000            43.750000\n",
       "[40, 50)     11   4     15                73.333333            26.666667\n",
       "[50, 60)     12  27     39                30.769231            69.230769\n",
       "[60, 70)     11   6     17                64.705882            35.294118\n",
       "[70, 80)     12  17     29                41.379310            58.620690\n",
       "[80, 90)      2  13     15                13.333333            86.666667\n",
       "[90, 100)     1   7      8                12.500000            87.500000\n",
       "[100, 200)    8  25     33                24.242424            75.757576\n",
       "[200, 400)    6  11     17                35.294118            64.705882\n",
       "[400, 600)    0   3      3                 0.000000           100.000000"
      ]
     },
     "execution_count": 27,
     "metadata": {},
     "output_type": "execute_result"
    }
   ],
   "source": [
    "fare_group_stats"
   ]
  },
  {
   "cell_type": "code",
   "execution_count": 28,
   "id": "8e0565b2",
   "metadata": {
    "execution": {
     "iopub.execute_input": "2023-10-07T12:37:09.153389Z",
     "iopub.status.busy": "2023-10-07T12:37:09.152955Z",
     "iopub.status.idle": "2023-10-07T12:37:09.548886Z",
     "shell.execute_reply": "2023-10-07T12:37:09.547658Z"
    },
    "papermill": {
     "duration": 0.412125,
     "end_time": "2023-10-07T12:37:09.551163",
     "exception": false,
     "start_time": "2023-10-07T12:37:09.139038",
     "status": "completed"
    },
    "tags": []
   },
   "outputs": [
    {
     "data": {
      "image/png": "[encoded data removed]",
      "text/plain": [
       "<Figure size 800x600 with 1 Axes>"
      ]
     },
     "metadata": {},
     "output_type": "display_data"
    }
   ],
   "source": [
    "sns.set(style=\"dark\")\n",
    "plt.figure(figsize=(8, 6))\n",
    "ax = sns.barplot(x=fare_group_stats.index, y=fare_group_stats['Survived_Percentage'], color='darkblue', label='Survived')\n",
    "sns.barplot(x=fare_group_stats.index, y=fare_group_stats['Not_Survived_Percentage'], bottom=fare_group_stats['Survived_Percentage'], color='blue', label='Not Survived')\n",
    "\n",
    "ax.axhline(y=38.384, color='red', linestyle='-', label='Total average of Survived')\n",
    "\n",
    "# Customize the plot\n",
    "plt.xlabel('Fare Group')\n",
    "plt.ylabel('Percentage')\n",
    "plt.title('Percentage of Survivors and Non-Survivors by Fare Group')\n",
    "plt.legend(loc='upper right')\n",
    "plt.xticks(rotation=45)\n",
    "\n",
    "# Show the plot\n",
    "plt.tight_layout()\n",
    "plt.show()"
   ]
  },
  {
   "cell_type": "markdown",
   "id": "03a9359c",
   "metadata": {
    "papermill": {
     "duration": 0.013972,
     "end_time": "2023-10-07T12:37:09.579117",
     "exception": false,
     "start_time": "2023-10-07T12:37:09.565145",
     "status": "completed"
    },
    "tags": []
   },
   "source": [
    "### Question: Should I treat it as a continuous variable or to make a categorical variable using buckets ([0, 7, 10, 50, 80, 100, 400, 600])?\n",
    "\n",
    "#### Answer: Relation is roughly linear here - the more expensive the ticket, the higher chance of survival. Therefore, a continuous variable should be sufficient."
   ]
  },
  {
   "cell_type": "markdown",
   "id": "596d1d3c",
   "metadata": {
    "papermill": {
     "duration": 0.013211,
     "end_time": "2023-10-07T12:37:09.606052",
     "exception": false,
     "start_time": "2023-10-07T12:37:09.592841",
     "status": "completed"
    },
    "tags": []
   },
   "source": [
    "### However, `Fare` variable can be highly correlated with `Pclass` variable"
   ]
  },
  {
   "cell_type": "code",
   "execution_count": 29,
   "id": "d38a14b1",
   "metadata": {
    "execution": {
     "iopub.execute_input": "2023-10-07T12:37:09.635442Z",
     "iopub.status.busy": "2023-10-07T12:37:09.635135Z",
     "iopub.status.idle": "2023-10-07T12:37:09.644426Z",
     "shell.execute_reply": "2023-10-07T12:37:09.643323Z"
    },
    "papermill": {
     "duration": 0.026398,
     "end_time": "2023-10-07T12:37:09.646234",
     "exception": false,
     "start_time": "2023-10-07T12:37:09.619836",
     "status": "completed"
    },
    "tags": []
   },
   "outputs": [
    {
     "name": "stdout",
     "output_type": "stream",
     "text": [
      "The average price of first class ticket was:  84.1546875\n",
      "The average price of second class ticket was:  20.662183152173913\n",
      "The average price of third class ticket was:  13.675550101832993\n"
     ]
    }
   ],
   "source": [
    "print(\"The average price of first class ticket was: \", train_data[train_data['Pclass'] == 1]['Fare'].mean())\n",
    "print(\"The average price of second class ticket was: \", train_data[train_data['Pclass'] == 2]['Fare'].mean())\n",
    "print(\"The average price of third class ticket was: \", train_data[train_data['Pclass'] == 3]['Fare'].mean())"
   ]
  },
  {
   "cell_type": "markdown",
   "id": "97a0a048",
   "metadata": {
    "papermill": {
     "duration": 0.012663,
     "end_time": "2023-10-07T12:37:09.672069",
     "exception": false,
     "start_time": "2023-10-07T12:37:09.659406",
     "status": "completed"
    },
    "tags": []
   },
   "source": [
    "---"
   ]
  },
  {
   "cell_type": "markdown",
   "id": "123f1dc6",
   "metadata": {
    "papermill": {
     "duration": 0.012756,
     "end_time": "2023-10-07T12:37:09.699016",
     "exception": false,
     "start_time": "2023-10-07T12:37:09.686260",
     "status": "completed"
    },
    "tags": []
   },
   "source": [
    "# 2.2 **Ticket, Cabin and Embarked**"
   ]
  },
  {
   "cell_type": "markdown",
   "id": "3979292c",
   "metadata": {
    "papermill": {
     "duration": 0.012605,
     "end_time": "2023-10-07T12:37:09.724520",
     "exception": false,
     "start_time": "2023-10-07T12:37:09.711915",
     "status": "completed"
    },
    "tags": []
   },
   "source": [
    "Ticket and Cabin variables will be ecluded."
   ]
  },
  {
   "cell_type": "markdown",
   "id": "7905148f",
   "metadata": {
    "papermill": {
     "duration": 0.012541,
     "end_time": "2023-10-07T12:37:09.750132",
     "exception": false,
     "start_time": "2023-10-07T12:37:09.737591",
     "status": "completed"
    },
    "tags": []
   },
   "source": [
    "## 2.2.1. Embarked"
   ]
  },
  {
   "cell_type": "code",
   "execution_count": 30,
   "id": "2233b37c",
   "metadata": {
    "execution": {
     "iopub.execute_input": "2023-10-07T12:37:09.777451Z",
     "iopub.status.busy": "2023-10-07T12:37:09.776616Z",
     "iopub.status.idle": "2023-10-07T12:37:10.638550Z",
     "shell.execute_reply": "2023-10-07T12:37:10.636750Z"
    },
    "papermill": {
     "duration": 0.878259,
     "end_time": "2023-10-07T12:37:10.640835",
     "exception": false,
     "start_time": "2023-10-07T12:37:09.762576",
     "status": "completed"
    },
    "tags": []
   },
   "outputs": [
    {
     "data": {
      "text/plain": [
       "<Axes: xlabel='Embarked', ylabel='Fare'>"
      ]
     },
     "execution_count": 30,
     "metadata": {},
     "output_type": "execute_result"
    },
    {
     "data": {
      "image/png": "[encoded data removed]",
      "text/plain": [
       "<Figure size 2100x600 with 3 Axes>"
      ]
     },
     "metadata": {},
     "output_type": "display_data"
    }
   ],
   "source": [
    "fig, axes = plt.subplots(1, 3, figsize=(21, 6))\n",
    "sns.barplot(data=train_data, x='Embarked', y='Survived', hue='Sex', ax=axes[0])\n",
    "sns.barplot(data=train_data, x='Embarked', y='Survived', hue='Pclass', ax=axes[1])\n",
    "sns.barplot(data=train_data, x='Embarked', y='Fare', hue='Survived', ax=axes[2])"
   ]
  },
  {
   "cell_type": "markdown",
   "id": "43a56eb6",
   "metadata": {
    "papermill": {
     "duration": 0.013807,
     "end_time": "2023-10-07T12:37:10.668453",
     "exception": false,
     "start_time": "2023-10-07T12:37:10.654646",
     "status": "completed"
    },
    "tags": []
   },
   "source": [
    "On those graphs we can observe that passengers embarked at port C had higher chance of survival.\n",
    "- From the first plot, we can say that it was independent from the gender of the passenger.\n",
    "- However, plot 2 and 3 especially can suggest that this relation may be correlated with the fact that those passengers paid more for the tickets, what was previously shown as an important factor for the chance of survival."
   ]
  },
  {
   "cell_type": "code",
   "execution_count": 31,
   "id": "694da634",
   "metadata": {
    "execution": {
     "iopub.execute_input": "2023-10-07T12:37:10.698928Z",
     "iopub.status.busy": "2023-10-07T12:37:10.698661Z",
     "iopub.status.idle": "2023-10-07T12:37:10.706693Z",
     "shell.execute_reply": "2023-10-07T12:37:10.705644Z"
    },
    "papermill": {
     "duration": 0.025496,
     "end_time": "2023-10-07T12:37:10.708087",
     "exception": false,
     "start_time": "2023-10-07T12:37:10.682591",
     "status": "completed"
    },
    "tags": []
   },
   "outputs": [
    {
     "name": "stdout",
     "output_type": "stream",
     "text": [
      "The average price of ticket for passengers embarked in C was:  59.95414404761905\n",
      "The average price of ticket for passengers embarked in S was:  27.079811801242233\n",
      "The average price of ticket for passengers embarked in Q was:  13.276029870129872\n"
     ]
    }
   ],
   "source": [
    "print(\"The average price of ticket for passengers embarked in C was: \", train_data[train_data['Embarked'] == 'C']['Fare'].mean())\n",
    "print(\"The average price of ticket for passengers embarked in S was: \", train_data[train_data['Embarked'] == 'S']['Fare'].mean())\n",
    "print(\"The average price of ticket for passengers embarked in Q was: \", train_data[train_data['Embarked'] == 'Q']['Fare'].mean())"
   ]
  },
  {
   "cell_type": "code",
   "execution_count": 32,
   "id": "fa39f1ed",
   "metadata": {
    "execution": {
     "iopub.execute_input": "2023-10-07T12:37:10.738581Z",
     "iopub.status.busy": "2023-10-07T12:37:10.737953Z",
     "iopub.status.idle": "2023-10-07T12:37:10.743239Z",
     "shell.execute_reply": "2023-10-07T12:37:10.742587Z"
    },
    "papermill": {
     "duration": 0.022787,
     "end_time": "2023-10-07T12:37:10.745113",
     "exception": false,
     "start_time": "2023-10-07T12:37:10.722326",
     "status": "completed"
    },
    "tags": []
   },
   "outputs": [
    {
     "data": {
      "text/plain": [
       "2"
      ]
     },
     "execution_count": 32,
     "metadata": {},
     "output_type": "execute_result"
    }
   ],
   "source": [
    "train_data['Embarked'].isna().sum()"
   ]
  },
  {
   "cell_type": "code",
   "execution_count": 33,
   "id": "b27d1eb5",
   "metadata": {
    "execution": {
     "iopub.execute_input": "2023-10-07T12:37:10.776388Z",
     "iopub.status.busy": "2023-10-07T12:37:10.775820Z",
     "iopub.status.idle": "2023-10-07T12:37:10.781082Z",
     "shell.execute_reply": "2023-10-07T12:37:10.780084Z"
    },
    "papermill": {
     "duration": 0.023337,
     "end_time": "2023-10-07T12:37:10.783107",
     "exception": false,
     "start_time": "2023-10-07T12:37:10.759770",
     "status": "completed"
    },
    "tags": []
   },
   "outputs": [],
   "source": [
    "train_data['Embarked'] = train_data['Embarked'].fillna('S')"
   ]
  },
  {
   "cell_type": "markdown",
   "id": "d031f9ab",
   "metadata": {
    "papermill": {
     "duration": 0.013525,
     "end_time": "2023-10-07T12:37:10.810562",
     "exception": false,
     "start_time": "2023-10-07T12:37:10.797037",
     "status": "completed"
    },
    "tags": []
   },
   "source": [
    "# 3. Select variables"
   ]
  },
  {
   "cell_type": "code",
   "execution_count": 34,
   "id": "cda2b3a5",
   "metadata": {
    "execution": {
     "iopub.execute_input": "2023-10-07T12:37:10.839472Z",
     "iopub.status.busy": "2023-10-07T12:37:10.839172Z",
     "iopub.status.idle": "2023-10-07T12:37:10.856472Z",
     "shell.execute_reply": "2023-10-07T12:37:10.855579Z"
    },
    "papermill": {
     "duration": 0.033585,
     "end_time": "2023-10-07T12:37:10.858006",
     "exception": false,
     "start_time": "2023-10-07T12:37:10.824421",
     "status": "completed"
    },
    "tags": []
   },
   "outputs": [
    {
     "data": {
      "text/html": [
       "<div>\n",
       "<style scoped>\n",
       "    .dataframe tbody tr th:only-of-type {\n",
       "        vertical-align: middle;\n",
       "    }\n",
       "\n",
       "    .dataframe tbody tr th {\n",
       "        vertical-align: top;\n",
       "    }\n",
       "\n",
       "    .dataframe thead th {\n",
       "        text-align: right;\n",
       "    }\n",
       "</style>\n",
       "<table border=\"1\" class=\"dataframe\">\n",
       "  <thead>\n",
       "    <tr style=\"text-align: right;\">\n",
       "      <th></th>\n",
       "      <th>PassengerId</th>\n",
       "      <th>Survived</th>\n",
       "      <th>Pclass</th>\n",
       "      <th>Name</th>\n",
       "      <th>Sex</th>\n",
       "      <th>Age</th>\n",
       "      <th>SibSp</th>\n",
       "      <th>Parch</th>\n",
       "      <th>Ticket</th>\n",
       "      <th>Fare</th>\n",
       "      <th>Cabin</th>\n",
       "      <th>Embarked</th>\n",
       "      <th>AgeGroup</th>\n",
       "      <th>Relatives</th>\n",
       "      <th>RelativesGroup</th>\n",
       "    </tr>\n",
       "  </thead>\n",
       "  <tbody>\n",
       "    <tr>\n",
       "      <th>0</th>\n",
       "      <td>1</td>\n",
       "      <td>0</td>\n",
       "      <td>3</td>\n",
       "      <td>Braund, Mr. Owen Harris</td>\n",
       "      <td>male</td>\n",
       "      <td>22.0</td>\n",
       "      <td>1</td>\n",
       "      <td>0</td>\n",
       "      <td>A/5 21171</td>\n",
       "      <td>7.2500</td>\n",
       "      <td>NaN</td>\n",
       "      <td>S</td>\n",
       "      <td>Age [20, 30)</td>\n",
       "      <td>1</td>\n",
       "      <td>Relatives [1, 4)</td>\n",
       "    </tr>\n",
       "    <tr>\n",
       "      <th>1</th>\n",
       "      <td>2</td>\n",
       "      <td>1</td>\n",
       "      <td>1</td>\n",
       "      <td>Cumings, Mrs. John Bradley (Florence Briggs Th...</td>\n",
       "      <td>female</td>\n",
       "      <td>38.0</td>\n",
       "      <td>1</td>\n",
       "      <td>0</td>\n",
       "      <td>PC 17599</td>\n",
       "      <td>71.2833</td>\n",
       "      <td>C85</td>\n",
       "      <td>C</td>\n",
       "      <td>Age [30, 60)</td>\n",
       "      <td>1</td>\n",
       "      <td>Relatives [1, 4)</td>\n",
       "    </tr>\n",
       "    <tr>\n",
       "      <th>2</th>\n",
       "      <td>3</td>\n",
       "      <td>1</td>\n",
       "      <td>3</td>\n",
       "      <td>Heikkinen, Miss. Laina</td>\n",
       "      <td>female</td>\n",
       "      <td>26.0</td>\n",
       "      <td>0</td>\n",
       "      <td>0</td>\n",
       "      <td>STON/O2. 3101282</td>\n",
       "      <td>7.9250</td>\n",
       "      <td>NaN</td>\n",
       "      <td>S</td>\n",
       "      <td>Age [20, 30)</td>\n",
       "      <td>0</td>\n",
       "      <td>Relatives [0, 1)</td>\n",
       "    </tr>\n",
       "    <tr>\n",
       "      <th>3</th>\n",
       "      <td>4</td>\n",
       "      <td>1</td>\n",
       "      <td>1</td>\n",
       "      <td>Futrelle, Mrs. Jacques Heath (Lily May Peel)</td>\n",
       "      <td>female</td>\n",
       "      <td>35.0</td>\n",
       "      <td>1</td>\n",
       "      <td>0</td>\n",
       "      <td>113803</td>\n",
       "      <td>53.1000</td>\n",
       "      <td>C123</td>\n",
       "      <td>S</td>\n",
       "      <td>Age [30, 60)</td>\n",
       "      <td>1</td>\n",
       "      <td>Relatives [1, 4)</td>\n",
       "    </tr>\n",
       "    <tr>\n",
       "      <th>4</th>\n",
       "      <td>5</td>\n",
       "      <td>0</td>\n",
       "      <td>3</td>\n",
       "      <td>Allen, Mr. William Henry</td>\n",
       "      <td>male</td>\n",
       "      <td>35.0</td>\n",
       "      <td>0</td>\n",
       "      <td>0</td>\n",
       "      <td>373450</td>\n",
       "      <td>8.0500</td>\n",
       "      <td>NaN</td>\n",
       "      <td>S</td>\n",
       "      <td>Age [30, 60)</td>\n",
       "      <td>0</td>\n",
       "      <td>Relatives [0, 1)</td>\n",
       "    </tr>\n",
       "    <tr>\n",
       "      <th>...</th>\n",
       "      <td>...</td>\n",
       "      <td>...</td>\n",
       "      <td>...</td>\n",
       "      <td>...</td>\n",
       "      <td>...</td>\n",
       "      <td>...</td>\n",
       "      <td>...</td>\n",
       "      <td>...</td>\n",
       "      <td>...</td>\n",
       "      <td>...</td>\n",
       "      <td>...</td>\n",
       "      <td>...</td>\n",
       "      <td>...</td>\n",
       "      <td>...</td>\n",
       "      <td>...</td>\n",
       "    </tr>\n",
       "    <tr>\n",
       "      <th>886</th>\n",
       "      <td>887</td>\n",
       "      <td>0</td>\n",
       "      <td>2</td>\n",
       "      <td>Montvila, Rev. Juozas</td>\n",
       "      <td>male</td>\n",
       "      <td>27.0</td>\n",
       "      <td>0</td>\n",
       "      <td>0</td>\n",
       "      <td>211536</td>\n",
       "      <td>13.0000</td>\n",
       "      <td>NaN</td>\n",
       "      <td>S</td>\n",
       "      <td>Age [20, 30)</td>\n",
       "      <td>0</td>\n",
       "      <td>Relatives [0, 1)</td>\n",
       "    </tr>\n",
       "    <tr>\n",
       "      <th>887</th>\n",
       "      <td>888</td>\n",
       "      <td>1</td>\n",
       "      <td>1</td>\n",
       "      <td>Graham, Miss. Margaret Edith</td>\n",
       "      <td>female</td>\n",
       "      <td>19.0</td>\n",
       "      <td>0</td>\n",
       "      <td>0</td>\n",
       "      <td>112053</td>\n",
       "      <td>30.0000</td>\n",
       "      <td>B42</td>\n",
       "      <td>S</td>\n",
       "      <td>Age [10, 20)</td>\n",
       "      <td>0</td>\n",
       "      <td>Relatives [0, 1)</td>\n",
       "    </tr>\n",
       "    <tr>\n",
       "      <th>888</th>\n",
       "      <td>889</td>\n",
       "      <td>0</td>\n",
       "      <td>3</td>\n",
       "      <td>Johnston, Miss. Catherine Helen \"Carrie\"</td>\n",
       "      <td>female</td>\n",
       "      <td>19.0</td>\n",
       "      <td>1</td>\n",
       "      <td>2</td>\n",
       "      <td>W./C. 6607</td>\n",
       "      <td>23.4500</td>\n",
       "      <td>NaN</td>\n",
       "      <td>S</td>\n",
       "      <td>Age [10, 20)</td>\n",
       "      <td>3</td>\n",
       "      <td>Relatives [1, 4)</td>\n",
       "    </tr>\n",
       "    <tr>\n",
       "      <th>889</th>\n",
       "      <td>890</td>\n",
       "      <td>1</td>\n",
       "      <td>1</td>\n",
       "      <td>Behr, Mr. Karl Howell</td>\n",
       "      <td>male</td>\n",
       "      <td>26.0</td>\n",
       "      <td>0</td>\n",
       "      <td>0</td>\n",
       "      <td>111369</td>\n",
       "      <td>30.0000</td>\n",
       "      <td>C148</td>\n",
       "      <td>C</td>\n",
       "      <td>Age [20, 30)</td>\n",
       "      <td>0</td>\n",
       "      <td>Relatives [0, 1)</td>\n",
       "    </tr>\n",
       "    <tr>\n",
       "      <th>890</th>\n",
       "      <td>891</td>\n",
       "      <td>0</td>\n",
       "      <td>3</td>\n",
       "      <td>Dooley, Mr. Patrick</td>\n",
       "      <td>male</td>\n",
       "      <td>32.0</td>\n",
       "      <td>0</td>\n",
       "      <td>0</td>\n",
       "      <td>370376</td>\n",
       "      <td>7.7500</td>\n",
       "      <td>NaN</td>\n",
       "      <td>Q</td>\n",
       "      <td>Age [30, 60)</td>\n",
       "      <td>0</td>\n",
       "      <td>Relatives [0, 1)</td>\n",
       "    </tr>\n",
       "  </tbody>\n",
       "</table>\n",
       "<p>891 rows × 15 columns</p>\n",
       "</div>"
      ],
      "text/plain": [
       "     PassengerId  Survived  Pclass  \\\n",
       "0              1         0       3   \n",
       "1              2         1       1   \n",
       "2              3         1       3   \n",
       "3              4         1       1   \n",
       "4              5         0       3   \n",
       "..           ...       ...     ...   \n",
       "886          887         0       2   \n",
       "887          888         1       1   \n",
       "888          889         0       3   \n",
       "889          890         1       1   \n",
       "890          891         0       3   \n",
       "\n",
       "                                                  Name     Sex   Age  SibSp  \\\n",
       "0                              Braund, Mr. Owen Harris    male  22.0      1   \n",
       "1    Cumings, Mrs. John Bradley (Florence Briggs Th...  female  38.0      1   \n",
       "2                               Heikkinen, Miss. Laina  female  26.0      0   \n",
       "3         Futrelle, Mrs. Jacques Heath (Lily May Peel)  female  35.0      1   \n",
       "4                             Allen, Mr. William Henry    male  35.0      0   \n",
       "..                                                 ...     ...   ...    ...   \n",
       "886                              Montvila, Rev. Juozas    male  27.0      0   \n",
       "887                       Graham, Miss. Margaret Edith  female  19.0      0   \n",
       "888           Johnston, Miss. Catherine Helen \"Carrie\"  female  19.0      1   \n",
       "889                              Behr, Mr. Karl Howell    male  26.0      0   \n",
       "890                                Dooley, Mr. Patrick    male  32.0      0   \n",
       "\n",
       "     Parch            Ticket     Fare Cabin Embarked      AgeGroup  Relatives  \\\n",
       "0        0         A/5 21171   7.2500   NaN        S  Age [20, 30)          1   \n",
       "1        0          PC 17599  71.2833   C85        C  Age [30, 60)          1   \n",
       "2        0  STON/O2. 3101282   7.9250   NaN        S  Age [20, 30)          0   \n",
       "3        0            113803  53.1000  C123        S  Age [30, 60)          1   \n",
       "4        0            373450   8.0500   NaN        S  Age [30, 60)          0   \n",
       "..     ...               ...      ...   ...      ...           ...        ...   \n",
       "886      0            211536  13.0000   NaN        S  Age [20, 30)          0   \n",
       "887      0            112053  30.0000   B42        S  Age [10, 20)          0   \n",
       "888      2        W./C. 6607  23.4500   NaN        S  Age [10, 20)          3   \n",
       "889      0            111369  30.0000  C148        C  Age [20, 30)          0   \n",
       "890      0            370376   7.7500   NaN        Q  Age [30, 60)          0   \n",
       "\n",
       "       RelativesGroup  \n",
       "0    Relatives [1, 4)  \n",
       "1    Relatives [1, 4)  \n",
       "2    Relatives [0, 1)  \n",
       "3    Relatives [1, 4)  \n",
       "4    Relatives [0, 1)  \n",
       "..                ...  \n",
       "886  Relatives [0, 1)  \n",
       "887  Relatives [0, 1)  \n",
       "888  Relatives [1, 4)  \n",
       "889  Relatives [0, 1)  \n",
       "890  Relatives [0, 1)  \n",
       "\n",
       "[891 rows x 15 columns]"
      ]
     },
     "execution_count": 34,
     "metadata": {},
     "output_type": "execute_result"
    }
   ],
   "source": [
    "train_data"
   ]
  },
  {
   "cell_type": "markdown",
   "id": "99279ae9",
   "metadata": {
    "papermill": {
     "duration": 0.013607,
     "end_time": "2023-10-07T12:37:10.885893",
     "exception": false,
     "start_time": "2023-10-07T12:37:10.872286",
     "status": "completed"
    },
    "tags": []
   },
   "source": [
    "## 3.1. Get dummies for `Sex`, `Embarked`, `AgeGroup` and `RelativesGroup`\n",
    "### To use OneHotEncoder variables must be of type 'category'"
   ]
  },
  {
   "cell_type": "code",
   "execution_count": 35,
   "id": "11bd686f",
   "metadata": {
    "execution": {
     "iopub.execute_input": "2023-10-07T12:37:10.915656Z",
     "iopub.status.busy": "2023-10-07T12:37:10.915337Z",
     "iopub.status.idle": "2023-10-07T12:37:10.932279Z",
     "shell.execute_reply": "2023-10-07T12:37:10.931109Z"
    },
    "papermill": {
     "duration": 0.034182,
     "end_time": "2023-10-07T12:37:10.934369",
     "exception": false,
     "start_time": "2023-10-07T12:37:10.900187",
     "status": "completed"
    },
    "tags": []
   },
   "outputs": [
    {
     "name": "stdout",
     "output_type": "stream",
     "text": [
      "<class 'pandas.core.frame.DataFrame'>\n",
      "RangeIndex: 891 entries, 0 to 890\n",
      "Data columns (total 15 columns):\n",
      " #   Column          Non-Null Count  Dtype  \n",
      "---  ------          --------------  -----  \n",
      " 0   PassengerId     891 non-null    int64  \n",
      " 1   Survived        891 non-null    int64  \n",
      " 2   Pclass          891 non-null    int64  \n",
      " 3   Name            891 non-null    object \n",
      " 4   Sex             891 non-null    object \n",
      " 5   Age             891 non-null    float64\n",
      " 6   SibSp           891 non-null    int64  \n",
      " 7   Parch           891 non-null    int64  \n",
      " 8   Ticket          891 non-null    object \n",
      " 9   Fare            891 non-null    float64\n",
      " 10  Cabin           204 non-null    object \n",
      " 11  Embarked        891 non-null    object \n",
      " 12  AgeGroup        891 non-null    string \n",
      " 13  Relatives       891 non-null    int64  \n",
      " 14  RelativesGroup  891 non-null    string \n",
      "dtypes: float64(2), int64(6), object(5), string(2)\n",
      "memory usage: 104.5+ KB\n"
     ]
    }
   ],
   "source": [
    "train_data.info()"
   ]
  },
  {
   "cell_type": "code",
   "execution_count": 36,
   "id": "8ac7f2e2",
   "metadata": {
    "execution": {
     "iopub.execute_input": "2023-10-07T12:37:10.965739Z",
     "iopub.status.busy": "2023-10-07T12:37:10.965281Z",
     "iopub.status.idle": "2023-10-07T12:37:10.972262Z",
     "shell.execute_reply": "2023-10-07T12:37:10.971171Z"
    },
    "papermill": {
     "duration": 0.024601,
     "end_time": "2023-10-07T12:37:10.974130",
     "exception": false,
     "start_time": "2023-10-07T12:37:10.949529",
     "status": "completed"
    },
    "tags": []
   },
   "outputs": [],
   "source": [
    "train_data['Sex'] = train_data['Sex'].astype('category')\n",
    "train_data['Embarked'] = train_data['Embarked'].astype('category')\n",
    "train_data['AgeGroup'] = train_data['AgeGroup'].astype('category')\n",
    "train_data['RelativesGroup'] = train_data['RelativesGroup'].astype('category')"
   ]
  },
  {
   "cell_type": "code",
   "execution_count": 37,
   "id": "763c9eee",
   "metadata": {
    "execution": {
     "iopub.execute_input": "2023-10-07T12:37:11.005243Z",
     "iopub.status.busy": "2023-10-07T12:37:11.004689Z",
     "iopub.status.idle": "2023-10-07T12:37:11.207257Z",
     "shell.execute_reply": "2023-10-07T12:37:11.205608Z"
    },
    "papermill": {
     "duration": 0.220799,
     "end_time": "2023-10-07T12:37:11.209671",
     "exception": false,
     "start_time": "2023-10-07T12:37:10.988872",
     "status": "completed"
    },
    "tags": []
   },
   "outputs": [],
   "source": [
    "from sklearn.preprocessing import OneHotEncoder\n",
    "\n",
    "ohe = OneHotEncoder()\n",
    "\n",
    "encoded_data = ohe.fit_transform(train_data[['Sex', 'Embarked', 'AgeGroup', 'RelativesGroup']]).toarray()\n",
    "labels = ohe.categories_\n",
    "labels = np.concatenate((labels[0], labels[1], labels[2], labels[3]), axis=0)\n",
    "\n",
    "encoded_df = pd.DataFrame(encoded_data, columns=labels)"
   ]
  },
  {
   "cell_type": "code",
   "execution_count": 38,
   "id": "1fb75736",
   "metadata": {
    "execution": {
     "iopub.execute_input": "2023-10-07T12:37:11.241098Z",
     "iopub.status.busy": "2023-10-07T12:37:11.240799Z",
     "iopub.status.idle": "2023-10-07T12:37:11.247341Z",
     "shell.execute_reply": "2023-10-07T12:37:11.246364Z"
    },
    "papermill": {
     "duration": 0.024903,
     "end_time": "2023-10-07T12:37:11.250110",
     "exception": false,
     "start_time": "2023-10-07T12:37:11.225207",
     "status": "completed"
    },
    "tags": []
   },
   "outputs": [],
   "source": [
    "train_data = pd.concat([train_data, encoded_df], axis=1)"
   ]
  },
  {
   "cell_type": "markdown",
   "id": "9a8466f3",
   "metadata": {
    "papermill": {
     "duration": 0.014432,
     "end_time": "2023-10-07T12:37:11.279946",
     "exception": false,
     "start_time": "2023-10-07T12:37:11.265514",
     "status": "completed"
    },
    "tags": []
   },
   "source": [
    "### For Logistic Regression"
   ]
  },
  {
   "cell_type": "code",
   "execution_count": 39,
   "id": "2b2f3c23",
   "metadata": {
    "execution": {
     "iopub.execute_input": "2023-10-07T12:37:11.312983Z",
     "iopub.status.busy": "2023-10-07T12:37:11.312643Z",
     "iopub.status.idle": "2023-10-07T12:37:11.319828Z",
     "shell.execute_reply": "2023-10-07T12:37:11.318803Z"
    },
    "papermill": {
     "duration": 0.025881,
     "end_time": "2023-10-07T12:37:11.321946",
     "exception": false,
     "start_time": "2023-10-07T12:37:11.296065",
     "status": "completed"
    },
    "tags": []
   },
   "outputs": [],
   "source": [
    "train_data_reg = train_data.copy()\n",
    "train_data_reg = train_data_reg.drop(columns=['PassengerId', 'Name', 'Sex', 'Age', 'SibSp', 'Parch', 'Ticket', 'Cabin', 'Embarked',\n",
    "                                              'AgeGroup', 'Relatives', 'RelativesGroup', 'male', 'S', 'Age [70, 81)', 'Relatives [4, 11)'])"
   ]
  },
  {
   "cell_type": "code",
   "execution_count": 40,
   "id": "1a08b146",
   "metadata": {
    "execution": {
     "iopub.execute_input": "2023-10-07T12:37:11.352773Z",
     "iopub.status.busy": "2023-10-07T12:37:11.351921Z",
     "iopub.status.idle": "2023-10-07T12:37:11.370361Z",
     "shell.execute_reply": "2023-10-07T12:37:11.369782Z"
    },
    "papermill": {
     "duration": 0.035544,
     "end_time": "2023-10-07T12:37:11.371875",
     "exception": false,
     "start_time": "2023-10-07T12:37:11.336331",
     "status": "completed"
    },
    "tags": []
   },
   "outputs": [
    {
     "data": {
      "text/html": [
       "<div>\n",
       "<style scoped>\n",
       "    .dataframe tbody tr th:only-of-type {\n",
       "        vertical-align: middle;\n",
       "    }\n",
       "\n",
       "    .dataframe tbody tr th {\n",
       "        vertical-align: top;\n",
       "    }\n",
       "\n",
       "    .dataframe thead th {\n",
       "        text-align: right;\n",
       "    }\n",
       "</style>\n",
       "<table border=\"1\" class=\"dataframe\">\n",
       "  <thead>\n",
       "    <tr style=\"text-align: right;\">\n",
       "      <th></th>\n",
       "      <th>Survived</th>\n",
       "      <th>Pclass</th>\n",
       "      <th>Fare</th>\n",
       "      <th>female</th>\n",
       "      <th>C</th>\n",
       "      <th>Q</th>\n",
       "      <th>Age [0, 1)</th>\n",
       "      <th>Age [1, 5)</th>\n",
       "      <th>Age [10, 20)</th>\n",
       "      <th>Age [20, 30)</th>\n",
       "      <th>Age [30, 60)</th>\n",
       "      <th>Age [5, 10)</th>\n",
       "      <th>Age [60, 70)</th>\n",
       "      <th>Relatives [0, 1)</th>\n",
       "      <th>Relatives [1, 4)</th>\n",
       "    </tr>\n",
       "  </thead>\n",
       "  <tbody>\n",
       "    <tr>\n",
       "      <th>0</th>\n",
       "      <td>0</td>\n",
       "      <td>3</td>\n",
       "      <td>7.2500</td>\n",
       "      <td>0.0</td>\n",
       "      <td>0.0</td>\n",
       "      <td>0.0</td>\n",
       "      <td>0.0</td>\n",
       "      <td>0.0</td>\n",
       "      <td>0.0</td>\n",
       "      <td>1.0</td>\n",
       "      <td>0.0</td>\n",
       "      <td>0.0</td>\n",
       "      <td>0.0</td>\n",
       "      <td>0.0</td>\n",
       "      <td>1.0</td>\n",
       "    </tr>\n",
       "    <tr>\n",
       "      <th>1</th>\n",
       "      <td>1</td>\n",
       "      <td>1</td>\n",
       "      <td>71.2833</td>\n",
       "      <td>1.0</td>\n",
       "      <td>1.0</td>\n",
       "      <td>0.0</td>\n",
       "      <td>0.0</td>\n",
       "      <td>0.0</td>\n",
       "      <td>0.0</td>\n",
       "      <td>0.0</td>\n",
       "      <td>1.0</td>\n",
       "      <td>0.0</td>\n",
       "      <td>0.0</td>\n",
       "      <td>0.0</td>\n",
       "      <td>1.0</td>\n",
       "    </tr>\n",
       "    <tr>\n",
       "      <th>2</th>\n",
       "      <td>1</td>\n",
       "      <td>3</td>\n",
       "      <td>7.9250</td>\n",
       "      <td>1.0</td>\n",
       "      <td>0.0</td>\n",
       "      <td>0.0</td>\n",
       "      <td>0.0</td>\n",
       "      <td>0.0</td>\n",
       "      <td>0.0</td>\n",
       "      <td>1.0</td>\n",
       "      <td>0.0</td>\n",
       "      <td>0.0</td>\n",
       "      <td>0.0</td>\n",
       "      <td>1.0</td>\n",
       "      <td>0.0</td>\n",
       "    </tr>\n",
       "    <tr>\n",
       "      <th>3</th>\n",
       "      <td>1</td>\n",
       "      <td>1</td>\n",
       "      <td>53.1000</td>\n",
       "      <td>1.0</td>\n",
       "      <td>0.0</td>\n",
       "      <td>0.0</td>\n",
       "      <td>0.0</td>\n",
       "      <td>0.0</td>\n",
       "      <td>0.0</td>\n",
       "      <td>0.0</td>\n",
       "      <td>1.0</td>\n",
       "      <td>0.0</td>\n",
       "      <td>0.0</td>\n",
       "      <td>0.0</td>\n",
       "      <td>1.0</td>\n",
       "    </tr>\n",
       "    <tr>\n",
       "      <th>4</th>\n",
       "      <td>0</td>\n",
       "      <td>3</td>\n",
       "      <td>8.0500</td>\n",
       "      <td>0.0</td>\n",
       "      <td>0.0</td>\n",
       "      <td>0.0</td>\n",
       "      <td>0.0</td>\n",
       "      <td>0.0</td>\n",
       "      <td>0.0</td>\n",
       "      <td>0.0</td>\n",
       "      <td>1.0</td>\n",
       "      <td>0.0</td>\n",
       "      <td>0.0</td>\n",
       "      <td>1.0</td>\n",
       "      <td>0.0</td>\n",
       "    </tr>\n",
       "    <tr>\n",
       "      <th>...</th>\n",
       "      <td>...</td>\n",
       "      <td>...</td>\n",
       "      <td>...</td>\n",
       "      <td>...</td>\n",
       "      <td>...</td>\n",
       "      <td>...</td>\n",
       "      <td>...</td>\n",
       "      <td>...</td>\n",
       "      <td>...</td>\n",
       "      <td>...</td>\n",
       "      <td>...</td>\n",
       "      <td>...</td>\n",
       "      <td>...</td>\n",
       "      <td>...</td>\n",
       "      <td>...</td>\n",
       "    </tr>\n",
       "    <tr>\n",
       "      <th>886</th>\n",
       "      <td>0</td>\n",
       "      <td>2</td>\n",
       "      <td>13.0000</td>\n",
       "      <td>0.0</td>\n",
       "      <td>0.0</td>\n",
       "      <td>0.0</td>\n",
       "      <td>0.0</td>\n",
       "      <td>0.0</td>\n",
       "      <td>0.0</td>\n",
       "      <td>1.0</td>\n",
       "      <td>0.0</td>\n",
       "      <td>0.0</td>\n",
       "      <td>0.0</td>\n",
       "      <td>1.0</td>\n",
       "      <td>0.0</td>\n",
       "    </tr>\n",
       "    <tr>\n",
       "      <th>887</th>\n",
       "      <td>1</td>\n",
       "      <td>1</td>\n",
       "      <td>30.0000</td>\n",
       "      <td>1.0</td>\n",
       "      <td>0.0</td>\n",
       "      <td>0.0</td>\n",
       "      <td>0.0</td>\n",
       "      <td>0.0</td>\n",
       "      <td>1.0</td>\n",
       "      <td>0.0</td>\n",
       "      <td>0.0</td>\n",
       "      <td>0.0</td>\n",
       "      <td>0.0</td>\n",
       "      <td>1.0</td>\n",
       "      <td>0.0</td>\n",
       "    </tr>\n",
       "    <tr>\n",
       "      <th>888</th>\n",
       "      <td>0</td>\n",
       "      <td>3</td>\n",
       "      <td>23.4500</td>\n",
       "      <td>1.0</td>\n",
       "      <td>0.0</td>\n",
       "      <td>0.0</td>\n",
       "      <td>0.0</td>\n",
       "      <td>0.0</td>\n",
       "      <td>1.0</td>\n",
       "      <td>0.0</td>\n",
       "      <td>0.0</td>\n",
       "      <td>0.0</td>\n",
       "      <td>0.0</td>\n",
       "      <td>0.0</td>\n",
       "      <td>1.0</td>\n",
       "    </tr>\n",
       "    <tr>\n",
       "      <th>889</th>\n",
       "      <td>1</td>\n",
       "      <td>1</td>\n",
       "      <td>30.0000</td>\n",
       "      <td>0.0</td>\n",
       "      <td>1.0</td>\n",
       "      <td>0.0</td>\n",
       "      <td>0.0</td>\n",
       "      <td>0.0</td>\n",
       "      <td>0.0</td>\n",
       "      <td>1.0</td>\n",
       "      <td>0.0</td>\n",
       "      <td>0.0</td>\n",
       "      <td>0.0</td>\n",
       "      <td>1.0</td>\n",
       "      <td>0.0</td>\n",
       "    </tr>\n",
       "    <tr>\n",
       "      <th>890</th>\n",
       "      <td>0</td>\n",
       "      <td>3</td>\n",
       "      <td>7.7500</td>\n",
       "      <td>0.0</td>\n",
       "      <td>0.0</td>\n",
       "      <td>1.0</td>\n",
       "      <td>0.0</td>\n",
       "      <td>0.0</td>\n",
       "      <td>0.0</td>\n",
       "      <td>0.0</td>\n",
       "      <td>1.0</td>\n",
       "      <td>0.0</td>\n",
       "      <td>0.0</td>\n",
       "      <td>1.0</td>\n",
       "      <td>0.0</td>\n",
       "    </tr>\n",
       "  </tbody>\n",
       "</table>\n",
       "<p>891 rows × 15 columns</p>\n",
       "</div>"
      ],
      "text/plain": [
       "     Survived  Pclass     Fare  female    C    Q  Age [0, 1)  Age [1, 5)  \\\n",
       "0           0       3   7.2500     0.0  0.0  0.0         0.0         0.0   \n",
       "1           1       1  71.2833     1.0  1.0  0.0         0.0         0.0   \n",
       "2           1       3   7.9250     1.0  0.0  0.0         0.0         0.0   \n",
       "3           1       1  53.1000     1.0  0.0  0.0         0.0         0.0   \n",
       "4           0       3   8.0500     0.0  0.0  0.0         0.0         0.0   \n",
       "..        ...     ...      ...     ...  ...  ...         ...         ...   \n",
       "886         0       2  13.0000     0.0  0.0  0.0         0.0         0.0   \n",
       "887         1       1  30.0000     1.0  0.0  0.0         0.0         0.0   \n",
       "888         0       3  23.4500     1.0  0.0  0.0         0.0         0.0   \n",
       "889         1       1  30.0000     0.0  1.0  0.0         0.0         0.0   \n",
       "890         0       3   7.7500     0.0  0.0  1.0         0.0         0.0   \n",
       "\n",
       "     Age [10, 20)  Age [20, 30)  Age [30, 60)  Age [5, 10)  Age [60, 70)  \\\n",
       "0             0.0           1.0           0.0          0.0           0.0   \n",
       "1             0.0           0.0           1.0          0.0           0.0   \n",
       "2             0.0           1.0           0.0          0.0           0.0   \n",
       "3             0.0           0.0           1.0          0.0           0.0   \n",
       "4             0.0           0.0           1.0          0.0           0.0   \n",
       "..            ...           ...           ...          ...           ...   \n",
       "886           0.0           1.0           0.0          0.0           0.0   \n",
       "887           1.0           0.0           0.0          0.0           0.0   \n",
       "888           1.0           0.0           0.0          0.0           0.0   \n",
       "889           0.0           1.0           0.0          0.0           0.0   \n",
       "890           0.0           0.0           1.0          0.0           0.0   \n",
       "\n",
       "     Relatives [0, 1)  Relatives [1, 4)  \n",
       "0                 0.0               1.0  \n",
       "1                 0.0               1.0  \n",
       "2                 1.0               0.0  \n",
       "3                 0.0               1.0  \n",
       "4                 1.0               0.0  \n",
       "..                ...               ...  \n",
       "886               1.0               0.0  \n",
       "887               1.0               0.0  \n",
       "888               0.0               1.0  \n",
       "889               1.0               0.0  \n",
       "890               1.0               0.0  \n",
       "\n",
       "[891 rows x 15 columns]"
      ]
     },
     "execution_count": 40,
     "metadata": {},
     "output_type": "execute_result"
    }
   ],
   "source": [
    "train_data_reg"
   ]
  },
  {
   "cell_type": "markdown",
   "id": "43687859",
   "metadata": {
    "papermill": {
     "duration": 0.013911,
     "end_time": "2023-10-07T12:37:11.400713",
     "exception": false,
     "start_time": "2023-10-07T12:37:11.386802",
     "status": "completed"
    },
    "tags": []
   },
   "source": [
    "### For decision trees"
   ]
  },
  {
   "cell_type": "code",
   "execution_count": 41,
   "id": "bd700dde",
   "metadata": {
    "execution": {
     "iopub.execute_input": "2023-10-07T12:37:11.430261Z",
     "iopub.status.busy": "2023-10-07T12:37:11.429723Z",
     "iopub.status.idle": "2023-10-07T12:37:11.435123Z",
     "shell.execute_reply": "2023-10-07T12:37:11.434083Z"
    },
    "papermill": {
     "duration": 0.022833,
     "end_time": "2023-10-07T12:37:11.437392",
     "exception": false,
     "start_time": "2023-10-07T12:37:11.414559",
     "status": "completed"
    },
    "tags": []
   },
   "outputs": [],
   "source": [
    "train_data_tree = train_data.copy()\n",
    "train_data_tree = train_data_tree.drop(columns=['PassengerId', 'Name', 'Sex', 'Age', 'SibSp', 'Parch', 'Ticket',\n",
    "                                                'Cabin', 'Embarked', 'AgeGroup', 'Relatives', 'RelativesGroup'])"
   ]
  },
  {
   "cell_type": "code",
   "execution_count": 42,
   "id": "b921e3f5",
   "metadata": {
    "execution": {
     "iopub.execute_input": "2023-10-07T12:37:11.471436Z",
     "iopub.status.busy": "2023-10-07T12:37:11.470897Z",
     "iopub.status.idle": "2023-10-07T12:37:11.492162Z",
     "shell.execute_reply": "2023-10-07T12:37:11.491211Z"
    },
    "papermill": {
     "duration": 0.040821,
     "end_time": "2023-10-07T12:37:11.493836",
     "exception": false,
     "start_time": "2023-10-07T12:37:11.453015",
     "status": "completed"
    },
    "tags": []
   },
   "outputs": [
    {
     "data": {
      "text/html": [
       "<div>\n",
       "<style scoped>\n",
       "    .dataframe tbody tr th:only-of-type {\n",
       "        vertical-align: middle;\n",
       "    }\n",
       "\n",
       "    .dataframe tbody tr th {\n",
       "        vertical-align: top;\n",
       "    }\n",
       "\n",
       "    .dataframe thead th {\n",
       "        text-align: right;\n",
       "    }\n",
       "</style>\n",
       "<table border=\"1\" class=\"dataframe\">\n",
       "  <thead>\n",
       "    <tr style=\"text-align: right;\">\n",
       "      <th></th>\n",
       "      <th>Survived</th>\n",
       "      <th>Pclass</th>\n",
       "      <th>Fare</th>\n",
       "      <th>female</th>\n",
       "      <th>male</th>\n",
       "      <th>C</th>\n",
       "      <th>Q</th>\n",
       "      <th>S</th>\n",
       "      <th>Age [0, 1)</th>\n",
       "      <th>Age [1, 5)</th>\n",
       "      <th>Age [10, 20)</th>\n",
       "      <th>Age [20, 30)</th>\n",
       "      <th>Age [30, 60)</th>\n",
       "      <th>Age [5, 10)</th>\n",
       "      <th>Age [60, 70)</th>\n",
       "      <th>Age [70, 81)</th>\n",
       "      <th>Relatives [0, 1)</th>\n",
       "      <th>Relatives [1, 4)</th>\n",
       "      <th>Relatives [4, 11)</th>\n",
       "    </tr>\n",
       "  </thead>\n",
       "  <tbody>\n",
       "    <tr>\n",
       "      <th>0</th>\n",
       "      <td>0</td>\n",
       "      <td>3</td>\n",
       "      <td>7.2500</td>\n",
       "      <td>0.0</td>\n",
       "      <td>1.0</td>\n",
       "      <td>0.0</td>\n",
       "      <td>0.0</td>\n",
       "      <td>1.0</td>\n",
       "      <td>0.0</td>\n",
       "      <td>0.0</td>\n",
       "      <td>0.0</td>\n",
       "      <td>1.0</td>\n",
       "      <td>0.0</td>\n",
       "      <td>0.0</td>\n",
       "      <td>0.0</td>\n",
       "      <td>0.0</td>\n",
       "      <td>0.0</td>\n",
       "      <td>1.0</td>\n",
       "      <td>0.0</td>\n",
       "    </tr>\n",
       "    <tr>\n",
       "      <th>1</th>\n",
       "      <td>1</td>\n",
       "      <td>1</td>\n",
       "      <td>71.2833</td>\n",
       "      <td>1.0</td>\n",
       "      <td>0.0</td>\n",
       "      <td>1.0</td>\n",
       "      <td>0.0</td>\n",
       "      <td>0.0</td>\n",
       "      <td>0.0</td>\n",
       "      <td>0.0</td>\n",
       "      <td>0.0</td>\n",
       "      <td>0.0</td>\n",
       "      <td>1.0</td>\n",
       "      <td>0.0</td>\n",
       "      <td>0.0</td>\n",
       "      <td>0.0</td>\n",
       "      <td>0.0</td>\n",
       "      <td>1.0</td>\n",
       "      <td>0.0</td>\n",
       "    </tr>\n",
       "    <tr>\n",
       "      <th>2</th>\n",
       "      <td>1</td>\n",
       "      <td>3</td>\n",
       "      <td>7.9250</td>\n",
       "      <td>1.0</td>\n",
       "      <td>0.0</td>\n",
       "      <td>0.0</td>\n",
       "      <td>0.0</td>\n",
       "      <td>1.0</td>\n",
       "      <td>0.0</td>\n",
       "      <td>0.0</td>\n",
       "      <td>0.0</td>\n",
       "      <td>1.0</td>\n",
       "      <td>0.0</td>\n",
       "      <td>0.0</td>\n",
       "      <td>0.0</td>\n",
       "      <td>0.0</td>\n",
       "      <td>1.0</td>\n",
       "      <td>0.0</td>\n",
       "      <td>0.0</td>\n",
       "    </tr>\n",
       "    <tr>\n",
       "      <th>3</th>\n",
       "      <td>1</td>\n",
       "      <td>1</td>\n",
       "      <td>53.1000</td>\n",
       "      <td>1.0</td>\n",
       "      <td>0.0</td>\n",
       "      <td>0.0</td>\n",
       "      <td>0.0</td>\n",
       "      <td>1.0</td>\n",
       "      <td>0.0</td>\n",
       "      <td>0.0</td>\n",
       "      <td>0.0</td>\n",
       "      <td>0.0</td>\n",
       "      <td>1.0</td>\n",
       "      <td>0.0</td>\n",
       "      <td>0.0</td>\n",
       "      <td>0.0</td>\n",
       "      <td>0.0</td>\n",
       "      <td>1.0</td>\n",
       "      <td>0.0</td>\n",
       "    </tr>\n",
       "    <tr>\n",
       "      <th>4</th>\n",
       "      <td>0</td>\n",
       "      <td>3</td>\n",
       "      <td>8.0500</td>\n",
       "      <td>0.0</td>\n",
       "      <td>1.0</td>\n",
       "      <td>0.0</td>\n",
       "      <td>0.0</td>\n",
       "      <td>1.0</td>\n",
       "      <td>0.0</td>\n",
       "      <td>0.0</td>\n",
       "      <td>0.0</td>\n",
       "      <td>0.0</td>\n",
       "      <td>1.0</td>\n",
       "      <td>0.0</td>\n",
       "      <td>0.0</td>\n",
       "      <td>0.0</td>\n",
       "      <td>1.0</td>\n",
       "      <td>0.0</td>\n",
       "      <td>0.0</td>\n",
       "    </tr>\n",
       "    <tr>\n",
       "      <th>...</th>\n",
       "      <td>...</td>\n",
       "      <td>...</td>\n",
       "      <td>...</td>\n",
       "      <td>...</td>\n",
       "      <td>...</td>\n",
       "      <td>...</td>\n",
       "      <td>...</td>\n",
       "      <td>...</td>\n",
       "      <td>...</td>\n",
       "      <td>...</td>\n",
       "      <td>...</td>\n",
       "      <td>...</td>\n",
       "      <td>...</td>\n",
       "      <td>...</td>\n",
       "      <td>...</td>\n",
       "      <td>...</td>\n",
       "      <td>...</td>\n",
       "      <td>...</td>\n",
       "      <td>...</td>\n",
       "    </tr>\n",
       "    <tr>\n",
       "      <th>886</th>\n",
       "      <td>0</td>\n",
       "      <td>2</td>\n",
       "      <td>13.0000</td>\n",
       "      <td>0.0</td>\n",
       "      <td>1.0</td>\n",
       "      <td>0.0</td>\n",
       "      <td>0.0</td>\n",
       "      <td>1.0</td>\n",
       "      <td>0.0</td>\n",
       "      <td>0.0</td>\n",
       "      <td>0.0</td>\n",
       "      <td>1.0</td>\n",
       "      <td>0.0</td>\n",
       "      <td>0.0</td>\n",
       "      <td>0.0</td>\n",
       "      <td>0.0</td>\n",
       "      <td>1.0</td>\n",
       "      <td>0.0</td>\n",
       "      <td>0.0</td>\n",
       "    </tr>\n",
       "    <tr>\n",
       "      <th>887</th>\n",
       "      <td>1</td>\n",
       "      <td>1</td>\n",
       "      <td>30.0000</td>\n",
       "      <td>1.0</td>\n",
       "      <td>0.0</td>\n",
       "      <td>0.0</td>\n",
       "      <td>0.0</td>\n",
       "      <td>1.0</td>\n",
       "      <td>0.0</td>\n",
       "      <td>0.0</td>\n",
       "      <td>1.0</td>\n",
       "      <td>0.0</td>\n",
       "      <td>0.0</td>\n",
       "      <td>0.0</td>\n",
       "      <td>0.0</td>\n",
       "      <td>0.0</td>\n",
       "      <td>1.0</td>\n",
       "      <td>0.0</td>\n",
       "      <td>0.0</td>\n",
       "    </tr>\n",
       "    <tr>\n",
       "      <th>888</th>\n",
       "      <td>0</td>\n",
       "      <td>3</td>\n",
       "      <td>23.4500</td>\n",
       "      <td>1.0</td>\n",
       "      <td>0.0</td>\n",
       "      <td>0.0</td>\n",
       "      <td>0.0</td>\n",
       "      <td>1.0</td>\n",
       "      <td>0.0</td>\n",
       "      <td>0.0</td>\n",
       "      <td>1.0</td>\n",
       "      <td>0.0</td>\n",
       "      <td>0.0</td>\n",
       "      <td>0.0</td>\n",
       "      <td>0.0</td>\n",
       "      <td>0.0</td>\n",
       "      <td>0.0</td>\n",
       "      <td>1.0</td>\n",
       "      <td>0.0</td>\n",
       "    </tr>\n",
       "    <tr>\n",
       "      <th>889</th>\n",
       "      <td>1</td>\n",
       "      <td>1</td>\n",
       "      <td>30.0000</td>\n",
       "      <td>0.0</td>\n",
       "      <td>1.0</td>\n",
       "      <td>1.0</td>\n",
       "      <td>0.0</td>\n",
       "      <td>0.0</td>\n",
       "      <td>0.0</td>\n",
       "      <td>0.0</td>\n",
       "      <td>0.0</td>\n",
       "      <td>1.0</td>\n",
       "      <td>0.0</td>\n",
       "      <td>0.0</td>\n",
       "      <td>0.0</td>\n",
       "      <td>0.0</td>\n",
       "      <td>1.0</td>\n",
       "      <td>0.0</td>\n",
       "      <td>0.0</td>\n",
       "    </tr>\n",
       "    <tr>\n",
       "      <th>890</th>\n",
       "      <td>0</td>\n",
       "      <td>3</td>\n",
       "      <td>7.7500</td>\n",
       "      <td>0.0</td>\n",
       "      <td>1.0</td>\n",
       "      <td>0.0</td>\n",
       "      <td>1.0</td>\n",
       "      <td>0.0</td>\n",
       "      <td>0.0</td>\n",
       "      <td>0.0</td>\n",
       "      <td>0.0</td>\n",
       "      <td>0.0</td>\n",
       "      <td>1.0</td>\n",
       "      <td>0.0</td>\n",
       "      <td>0.0</td>\n",
       "      <td>0.0</td>\n",
       "      <td>1.0</td>\n",
       "      <td>0.0</td>\n",
       "      <td>0.0</td>\n",
       "    </tr>\n",
       "  </tbody>\n",
       "</table>\n",
       "<p>891 rows × 19 columns</p>\n",
       "</div>"
      ],
      "text/plain": [
       "     Survived  Pclass     Fare  female  male    C    Q    S  Age [0, 1)  \\\n",
       "0           0       3   7.2500     0.0   1.0  0.0  0.0  1.0         0.0   \n",
       "1           1       1  71.2833     1.0   0.0  1.0  0.0  0.0         0.0   \n",
       "2           1       3   7.9250     1.0   0.0  0.0  0.0  1.0         0.0   \n",
       "3           1       1  53.1000     1.0   0.0  0.0  0.0  1.0         0.0   \n",
       "4           0       3   8.0500     0.0   1.0  0.0  0.0  1.0         0.0   \n",
       "..        ...     ...      ...     ...   ...  ...  ...  ...         ...   \n",
       "886         0       2  13.0000     0.0   1.0  0.0  0.0  1.0         0.0   \n",
       "887         1       1  30.0000     1.0   0.0  0.0  0.0  1.0         0.0   \n",
       "888         0       3  23.4500     1.0   0.0  0.0  0.0  1.0         0.0   \n",
       "889         1       1  30.0000     0.0   1.0  1.0  0.0  0.0         0.0   \n",
       "890         0       3   7.7500     0.0   1.0  0.0  1.0  0.0         0.0   \n",
       "\n",
       "     Age [1, 5)  Age [10, 20)  Age [20, 30)  Age [30, 60)  Age [5, 10)  \\\n",
       "0           0.0           0.0           1.0           0.0          0.0   \n",
       "1           0.0           0.0           0.0           1.0          0.0   \n",
       "2           0.0           0.0           1.0           0.0          0.0   \n",
       "3           0.0           0.0           0.0           1.0          0.0   \n",
       "4           0.0           0.0           0.0           1.0          0.0   \n",
       "..          ...           ...           ...           ...          ...   \n",
       "886         0.0           0.0           1.0           0.0          0.0   \n",
       "887         0.0           1.0           0.0           0.0          0.0   \n",
       "888         0.0           1.0           0.0           0.0          0.0   \n",
       "889         0.0           0.0           1.0           0.0          0.0   \n",
       "890         0.0           0.0           0.0           1.0          0.0   \n",
       "\n",
       "     Age [60, 70)  Age [70, 81)  Relatives [0, 1)  Relatives [1, 4)  \\\n",
       "0             0.0           0.0               0.0               1.0   \n",
       "1             0.0           0.0               0.0               1.0   \n",
       "2             0.0           0.0               1.0               0.0   \n",
       "3             0.0           0.0               0.0               1.0   \n",
       "4             0.0           0.0               1.0               0.0   \n",
       "..            ...           ...               ...               ...   \n",
       "886           0.0           0.0               1.0               0.0   \n",
       "887           0.0           0.0               1.0               0.0   \n",
       "888           0.0           0.0               0.0               1.0   \n",
       "889           0.0           0.0               1.0               0.0   \n",
       "890           0.0           0.0               1.0               0.0   \n",
       "\n",
       "     Relatives [4, 11)  \n",
       "0                  0.0  \n",
       "1                  0.0  \n",
       "2                  0.0  \n",
       "3                  0.0  \n",
       "4                  0.0  \n",
       "..                 ...  \n",
       "886                0.0  \n",
       "887                0.0  \n",
       "888                0.0  \n",
       "889                0.0  \n",
       "890                0.0  \n",
       "\n",
       "[891 rows x 19 columns]"
      ]
     },
     "execution_count": 42,
     "metadata": {},
     "output_type": "execute_result"
    }
   ],
   "source": [
    "train_data_tree"
   ]
  },
  {
   "cell_type": "markdown",
   "id": "d60e1550",
   "metadata": {
    "papermill": {
     "duration": 0.01512,
     "end_time": "2023-10-07T12:37:11.525090",
     "exception": false,
     "start_time": "2023-10-07T12:37:11.509970",
     "status": "completed"
    },
    "tags": []
   },
   "source": [
    "---"
   ]
  },
  {
   "cell_type": "markdown",
   "id": "1890a1c7",
   "metadata": {
    "papermill": {
     "duration": 0.01537,
     "end_time": "2023-10-07T12:37:11.555879",
     "exception": false,
     "start_time": "2023-10-07T12:37:11.540509",
     "status": "completed"
    },
    "tags": []
   },
   "source": [
    "# 4. Prepare test_data"
   ]
  },
  {
   "cell_type": "code",
   "execution_count": 43,
   "id": "4e5819cc",
   "metadata": {
    "execution": {
     "iopub.execute_input": "2023-10-07T12:37:11.588859Z",
     "iopub.status.busy": "2023-10-07T12:37:11.588074Z",
     "iopub.status.idle": "2023-10-07T12:37:11.597862Z",
     "shell.execute_reply": "2023-10-07T12:37:11.596935Z"
    },
    "papermill": {
     "duration": 0.028142,
     "end_time": "2023-10-07T12:37:11.599615",
     "exception": false,
     "start_time": "2023-10-07T12:37:11.571473",
     "status": "completed"
    },
    "tags": []
   },
   "outputs": [
    {
     "data": {
      "text/plain": [
       "PassengerId      0\n",
       "Pclass           0\n",
       "Name             0\n",
       "Sex              0\n",
       "Age             86\n",
       "SibSp            0\n",
       "Parch            0\n",
       "Ticket           0\n",
       "Fare             1\n",
       "Cabin          327\n",
       "Embarked         0\n",
       "dtype: int64"
      ]
     },
     "execution_count": 43,
     "metadata": {},
     "output_type": "execute_result"
    }
   ],
   "source": [
    "test_data.isna().sum()"
   ]
  },
  {
   "cell_type": "code",
   "execution_count": 44,
   "id": "dfc06f08",
   "metadata": {
    "execution": {
     "iopub.execute_input": "2023-10-07T12:37:11.630680Z",
     "iopub.status.busy": "2023-10-07T12:37:11.630348Z",
     "iopub.status.idle": "2023-10-07T12:37:11.648806Z",
     "shell.execute_reply": "2023-10-07T12:37:11.646958Z"
    },
    "papermill": {
     "duration": 0.036574,
     "end_time": "2023-10-07T12:37:11.651108",
     "exception": false,
     "start_time": "2023-10-07T12:37:11.614534",
     "status": "completed"
    },
    "tags": []
   },
   "outputs": [],
   "source": [
    "# Prepare test data\n",
    "\n",
    "# Fill NA values and cut 'Age' variable\n",
    "test_data['Age'] = test_data['Age'].fillna(19)\n",
    "test_data['Fare'] = test_data['Fare'].fillna(train_data['Fare'].mean())\n",
    "\n",
    "# Create 'Relatives' variable\n",
    "test_data['Relatives'] = test_data['SibSp'] + test_data['Parch']\n",
    "\n",
    "# Bin and cut the data\n",
    "age_bins = np.array([0, 1, 5, 10, 20, 30, 60, 70, 81])\n",
    "relatives_bins = np.array([0, 1, 4, 11])\n",
    "test_data['AgeGroup'] = 'Age ' + pd.cut(test_data['Age'], bins=age_bins, right=False).astype('string')\n",
    "test_data['RelativesGroup'] = 'Relatives ' + pd.cut(test_data['Relatives'], bins=relatives_bins, right=False).astype('string')\n",
    "\n",
    "# One Hot Encode the data\n",
    "encoded_test_data = ohe.transform(test_data[['Sex', 'Embarked', 'AgeGroup', 'RelativesGroup']]).toarray()\n",
    "labels = ohe.categories_\n",
    "labels = np.concatenate((labels[0], labels[1], labels[2], labels[3]), axis=0)\n",
    "\n",
    "encoded_test_df = pd.DataFrame(encoded_test_data, columns=labels)\n",
    "test_data = pd.concat([test_data, encoded_test_df], axis=1)"
   ]
  },
  {
   "cell_type": "markdown",
   "id": "1d21b702",
   "metadata": {
    "papermill": {
     "duration": 0.015573,
     "end_time": "2023-10-07T12:37:11.682982",
     "exception": false,
     "start_time": "2023-10-07T12:37:11.667409",
     "status": "completed"
    },
    "tags": []
   },
   "source": [
    "# 5. Get results"
   ]
  },
  {
   "cell_type": "markdown",
   "id": "ad6f6e08",
   "metadata": {
    "papermill": {
     "duration": 0.014797,
     "end_time": "2023-10-07T12:37:11.713400",
     "exception": false,
     "start_time": "2023-10-07T12:37:11.698603",
     "status": "completed"
    },
    "tags": []
   },
   "source": [
    "## 5.1. Random Forest"
   ]
  },
  {
   "cell_type": "code",
   "execution_count": 45,
   "id": "3dc1076d",
   "metadata": {
    "execution": {
     "iopub.execute_input": "2023-10-07T12:37:11.744577Z",
     "iopub.status.busy": "2023-10-07T12:37:11.744230Z",
     "iopub.status.idle": "2023-10-07T12:37:11.751344Z",
     "shell.execute_reply": "2023-10-07T12:37:11.749991Z"
    },
    "papermill": {
     "duration": 0.025406,
     "end_time": "2023-10-07T12:37:11.753528",
     "exception": false,
     "start_time": "2023-10-07T12:37:11.728122",
     "status": "completed"
    },
    "tags": []
   },
   "outputs": [],
   "source": [
    "test_data_tree = test_data.copy()\n",
    "test_data_tree = test_data_tree.drop(columns=['PassengerId', 'Name', 'Sex', 'Age', 'SibSp', 'Parch', 'Ticket',\n",
    "                                                'Cabin', 'Embarked', 'AgeGroup', 'Relatives', 'RelativesGroup'])"
   ]
  },
  {
   "cell_type": "code",
   "execution_count": 46,
   "id": "79b98f07",
   "metadata": {
    "execution": {
     "iopub.execute_input": "2023-10-07T12:37:11.785085Z",
     "iopub.status.busy": "2023-10-07T12:37:11.784730Z",
     "iopub.status.idle": "2023-10-07T12:37:12.316649Z",
     "shell.execute_reply": "2023-10-07T12:37:12.315296Z"
    },
    "papermill": {
     "duration": 0.550541,
     "end_time": "2023-10-07T12:37:12.319109",
     "exception": false,
     "start_time": "2023-10-07T12:37:11.768568",
     "status": "completed"
    },
    "tags": []
   },
   "outputs": [],
   "source": [
    "from sklearn.ensemble import RandomForestClassifier\n",
    "\n",
    "y = train_data_tree['Survived']\n",
    "X = train_data_tree.drop(columns=['Survived'])\n",
    "\n",
    "X_test = test_data_tree\n",
    "\n",
    "model = RandomForestClassifier(n_estimators=10, max_depth=3, random_state=10)\n",
    "model.fit(X,y)\n",
    "\n",
    "predictions = model.predict(X_test)\n",
    "\n",
    "output = pd.DataFrame({\n",
    "    \"PassengerId\": test_data.PassengerId,\n",
    "    \"Survived\": predictions\n",
    "})\n",
    "output.to_csv(\"submission.csv\", index=False)"
   ]
  },
  {
   "cell_type": "markdown",
   "id": "cd362413",
   "metadata": {
    "execution": {
     "iopub.execute_input": "2023-10-07T12:36:09.474261Z",
     "iopub.status.busy": "2023-10-07T12:36:09.473845Z",
     "iopub.status.idle": "2023-10-07T12:36:09.478155Z",
     "shell.execute_reply": "2023-10-07T12:36:09.477412Z",
     "shell.execute_reply.started": "2023-10-07T12:36:09.474236Z"
    },
    "papermill": {
     "duration": 0.018211,
     "end_time": "2023-10-07T12:37:12.353154",
     "exception": false,
     "start_time": "2023-10-07T12:37:12.334943",
     "status": "completed"
    },
    "tags": []
   },
   "source": [
    "# 5.2. Logistic regression"
   ]
  },
  {
   "cell_type": "code",
   "execution_count": 47,
   "id": "49a80e96",
   "metadata": {
    "execution": {
     "iopub.execute_input": "2023-10-07T12:37:12.389370Z",
     "iopub.status.busy": "2023-10-07T12:37:12.389006Z",
     "iopub.status.idle": "2023-10-07T12:37:12.394036Z",
     "shell.execute_reply": "2023-10-07T12:37:12.392913Z"
    },
    "papermill": {
     "duration": 0.024822,
     "end_time": "2023-10-07T12:37:12.395904",
     "exception": false,
     "start_time": "2023-10-07T12:37:12.371082",
     "status": "completed"
    },
    "tags": []
   },
   "outputs": [],
   "source": [
    "# test_data_reg = test_data.copy()\n",
    "# test_data_reg = test_data_reg.drop(columns=['PassengerId', 'Name', 'Sex', 'Age', 'SibSp', 'Parch', 'Ticket', 'Cabin', 'Embarked',\n",
    "#                                               'AgeGroup', 'Relatives', 'RelativesGroup', 'male', 'S', 'Age [70, 81)', 'Relatives [4, 11)'])"
   ]
  },
  {
   "cell_type": "code",
   "execution_count": 48,
   "id": "b7bbb938",
   "metadata": {
    "execution": {
     "iopub.execute_input": "2023-10-07T12:37:12.427438Z",
     "iopub.status.busy": "2023-10-07T12:37:12.427126Z",
     "iopub.status.idle": "2023-10-07T12:37:12.432349Z",
     "shell.execute_reply": "2023-10-07T12:37:12.430817Z"
    },
    "papermill": {
     "duration": 0.02405,
     "end_time": "2023-10-07T12:37:12.434937",
     "exception": false,
     "start_time": "2023-10-07T12:37:12.410887",
     "status": "completed"
    },
    "tags": []
   },
   "outputs": [],
   "source": [
    "# from sklearn.linear_model import LogisticRegression\n",
    "\n",
    "# y = train_data_reg['Survived']\n",
    "# X = train_data_reg.drop(columns=['Survived'])\n",
    "\n",
    "# X_test = test_data_reg\n",
    "\n",
    "# model = LogisticRegression(max_iter=1000)\n",
    "# model.fit(X, y)\n",
    "# predictions = model.predict(X_test)\n",
    "\n",
    "# output = pd.DataFrame({'PassengerId': test_data.PassengerId, 'Survived': predictions})\n",
    "# output.to_csv(\"submission.csv\", index=False)"
   ]
  }
 ],
 "metadata": {
  "kernelspec": {
   "display_name": "Python 3",
   "language": "python",
   "name": "python3"
  },
  "language_info": {
   "codemirror_mode": {
    "name": "ipython",
    "version": 3
   },
   "file_extension": ".py",
   "mimetype": "text/x-python",
   "name": "python",
   "nbconvert_exporter": "python",
   "pygments_lexer": "ipython3",
   "version": "3.10.12"
  },
  "papermill": {
   "default_parameters": {},
   "duration": 15.110595,
   "end_time": "2023-10-07T12:37:13.071366",
   "environment_variables": {},
   "exception": null,
   "input_path": "__notebook__.ipynb",
   "output_path": "__notebook__.ipynb",
   "parameters": {},
   "start_time": "2023-10-07T12:36:57.960771",
   "version": "2.4.0"
  }
 },
 "nbformat": 4,
 "nbformat_minor": 5
}
